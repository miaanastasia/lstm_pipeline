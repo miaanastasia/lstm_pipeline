{
  "cells": [
    {
      "cell_type": "markdown",
      "metadata": {
        "id": "view-in-github",
        "colab_type": "text"
      },
      "source": [
        "<a href=\"https://colab.research.google.com/github/miaanastasia/lstm_pipeline/blob/main/LSTM_Pipeline.ipynb\" target=\"_parent\"><img src=\"https://colab.research.google.com/assets/colab-badge.svg\" alt=\"Open In Colab\"/></a>"
      ]
    },
    {
      "cell_type": "markdown",
      "metadata": {
        "id": "3Wyt0FBmegn1"
      },
      "source": [
        "# **LSTM-Based Stock Price Prediction**\n",
        "\n",
        "This notebook demonstrates a stock prediction pipeline using machine learning and LSTM neural networks, with technical and market-based features, visual evaluation, and an interactive UI for exploring results.\n",
        "\n",
        "> *This program is optimized for Google Colab Pro accounts with GPU access and at least ten available computing units.*\n",
        "\n",
        "## User Guide\n",
        "\n",
        "#### Processor\n",
        "1. Click `Connect` at the top right of the notebook.\n",
        "2. Select `L4 GPU` or `T4 GPU` from the runtime options.\n",
        "3. Verify connectivity with green check mark.\n",
        "\n",
        "#### Pipeline\n",
        "1. In the Colab menu bar, go to **Runtime > Run All.**\n",
        "2. The default ticker is set to `DOW`.\n",
        "3. Wait a few moments while all cells execute.\n",
        "4. Once complete, check the task bar at the bottom for confirmation.\n",
        "\n",
        "\n",
        "> ***Tips:***\n",
        "> - Collapse sections using the bold headers for cleaner navigation.\n",
        "> - To run a specific section, hover over the `[ ]` icon below the collapsed header and click the play button.\n",
        "\n",
        "#### User Interface\n",
        "1. Scroll to the **User Interface** section at the bottom of the notebook.\n",
        "2. The dashboard appears by default under the `Pipeline` tab.\n",
        "3. Select a ticker from the dropdown and click 'Run Pipeline'.\n",
        "4. Watch the model train and view output loss and average percentage error.\n",
        "5. Navigate to the `Visualization` tab explore various charts and performance metrics.\n",
        "6.Select a visualization and click 'Show' (some may take a few moments to load).\n",
        "7. Return to the `Pipeline` tab to reset the model and try a new ticker.\n",
        "\n"
      ]
    },
    {
      "cell_type": "markdown",
      "metadata": {
        "id": "Mdwih2aNY8Gy"
      },
      "source": [
        "## **Languages, Packages, & Libraries**"
      ]
    },
    {
      "cell_type": "markdown",
      "metadata": {
        "id": "mRV0SGSmZBlq"
      },
      "source": [
        "### Python"
      ]
    },
    {
      "cell_type": "code",
      "execution_count": 1,
      "metadata": {
        "colab": {
          "base_uri": "https://localhost:8080/"
        },
        "id": "dP_3wZV4S5s0",
        "outputId": "c5aa3732-588b-44fe-cd46-1fbc63116145"
      },
      "outputs": [
        {
          "output_type": "stream",
          "name": "stdout",
          "text": [
            "Reading package lists... Done\n",
            "Building dependency tree... Done\n",
            "Reading state information... Done\n",
            "python3.10 is already the newest version (3.10.12-1~22.04.9).\n",
            "python3.10 set to manually installed.\n",
            "0 upgraded, 0 newly installed, 0 to remove and 30 not upgraded.\n"
          ]
        }
      ],
      "source": [
        "# !sudo update-alternatives --config python3\n",
        "!sudo apt-get install python3.10"
      ]
    },
    {
      "cell_type": "code",
      "execution_count": 2,
      "metadata": {
        "colab": {
          "base_uri": "https://localhost:8080/"
        },
        "id": "2744W7-9vpTW",
        "outputId": "50d117de-3cc8-43b6-bae5-6759c69e3f21"
      },
      "outputs": [
        {
          "output_type": "stream",
          "name": "stdout",
          "text": [
            "Python 3.11.11\n"
          ]
        }
      ],
      "source": [
        "!python --version"
      ]
    },
    {
      "cell_type": "markdown",
      "metadata": {
        "id": "5d7mGIRy2CJs"
      },
      "source": [
        "### Widgets"
      ]
    },
    {
      "cell_type": "code",
      "execution_count": 3,
      "metadata": {
        "colab": {
          "base_uri": "https://localhost:8080/"
        },
        "id": "uKne1k5Q2G9U",
        "outputId": "8579bd88-0a22-4f0f-c963-f2418751d5a2"
      },
      "outputs": [
        {
          "output_type": "stream",
          "name": "stdout",
          "text": [
            "\u001b[?25l   \u001b[90m━━━━━━━━━━━━━━━━━━━━━━━━━━━━━━━━━━━━━━━━\u001b[0m \u001b[32m0.0/139.4 kB\u001b[0m \u001b[31m?\u001b[0m eta \u001b[36m-:--:--\u001b[0m\r\u001b[2K   \u001b[90m━━━━━━━━━━━━━━━━━━━━━━━━━━━━━━━━━━━━━━━━\u001b[0m \u001b[32m139.4/139.4 kB\u001b[0m \u001b[31m10.7 MB/s\u001b[0m eta \u001b[36m0:00:00\u001b[0m\n",
            "\u001b[2K   \u001b[90m━━━━━━━━━━━━━━━━━━━━━━━━━━━━━━━━━━━━━━━━\u001b[0m \u001b[32m2.3/2.3 MB\u001b[0m \u001b[31m41.7 MB/s\u001b[0m eta \u001b[36m0:00:00\u001b[0m\n",
            "\u001b[2K   \u001b[90m━━━━━━━━━━━━━━━━━━━━━━━━━━━━━━━━━━━━━━━━\u001b[0m \u001b[32m1.6/1.6 MB\u001b[0m \u001b[31m35.2 MB/s\u001b[0m eta \u001b[36m0:00:00\u001b[0m\n",
            "\u001b[?25h"
          ]
        }
      ],
      "source": [
        "!pip install ipywidgets==8.1.1 --quiet"
      ]
    },
    {
      "cell_type": "code",
      "execution_count": 4,
      "metadata": {
        "id": "q0FsE1hU2M7q"
      },
      "outputs": [],
      "source": [
        "from google.colab import output\n",
        "output.enable_custom_widget_manager()"
      ]
    },
    {
      "cell_type": "markdown",
      "metadata": {
        "id": "D2puvatVZHT1"
      },
      "source": [
        "### Imports"
      ]
    },
    {
      "cell_type": "markdown",
      "metadata": {
        "id": "tnuRlCppZlj2"
      },
      "source": [
        "#### Data Exploration"
      ]
    },
    {
      "cell_type": "code",
      "execution_count": 5,
      "metadata": {
        "id": "2DenfTQHRcf3"
      },
      "outputs": [],
      "source": [
        "import numpy as np\n",
        "import random\n",
        "import pandas as pd\n",
        "import matplotlib.pyplot as plt\n",
        "import yfinance as yf\n",
        "from pandas_datareader import data as pdr\n",
        "import seaborn as sns\n",
        "import os"
      ]
    },
    {
      "cell_type": "markdown",
      "metadata": {
        "id": "evw8hCYcZrKd"
      },
      "source": [
        "#### Machine Learning"
      ]
    },
    {
      "cell_type": "code",
      "execution_count": 6,
      "metadata": {
        "id": "4yt3MBn6RrHy"
      },
      "outputs": [],
      "source": [
        "from sklearn.preprocessing import MinMaxScaler\n",
        "from sklearn.metrics import mean_squared_error, mean_absolute_error, root_mean_squared_error\n",
        "from sklearn.inspection import permutation_importance\n",
        "\n",
        "import tensorflow as tf\n",
        "import keras\n",
        "from keras import Input\n",
        "from tensorflow.keras.models import Sequential\n",
        "from tensorflow.keras.layers import Dense, LSTM, Dropout, Bidirectional\n",
        "from tensorflow.keras.optimizers import Adam"
      ]
    },
    {
      "cell_type": "code",
      "execution_count": 7,
      "metadata": {
        "colab": {
          "base_uri": "https://localhost:8080/"
        },
        "id": "YBeUMw1qS07s",
        "outputId": "0cbaead7-516b-45d9-c986-bfed6e1d5259"
      },
      "outputs": [
        {
          "output_type": "stream",
          "name": "stdout",
          "text": [
            "Tensorflow 2.18.0\n",
            "Keras 3.8.0\n"
          ]
        }
      ],
      "source": [
        "print('Tensorflow', tf.__version__)\n",
        "print('Keras', keras.__version__)"
      ]
    },
    {
      "cell_type": "markdown",
      "source": [
        "### Seeds"
      ],
      "metadata": {
        "id": "HmH4Rpd-IW-B"
      }
    },
    {
      "cell_type": "code",
      "source": [
        "# set seeds for reproducibility\n",
        "def set_seed(seed=42):\n",
        "  np.random.seed(seed)\n",
        "  tf.random.set_seed(seed)\n",
        "  os.environ['PYTHONHASHSEED'] = str(seed)\n",
        "\n",
        "set_seed(42)"
      ],
      "metadata": {
        "id": "jaRYLeJeIY50"
      },
      "execution_count": 8,
      "outputs": []
    },
    {
      "cell_type": "markdown",
      "metadata": {
        "id": "Z-fEwImFZnTG"
      },
      "source": [
        "## **Exploratory Data Analysis**"
      ]
    },
    {
      "cell_type": "markdown",
      "metadata": {
        "id": "XgupF3GpW-GF"
      },
      "source": [
        "### Global Definitions"
      ]
    },
    {
      "cell_type": "code",
      "execution_count": 9,
      "metadata": {
        "id": "dLvRWu6bXIgc"
      },
      "outputs": [],
      "source": [
        "# default stock or index ticker\n",
        "ticker = 'DOW'\n",
        "\n",
        "# look-back window (days)\n",
        "lookback = 60\n",
        "\n",
        "# train and test split\n",
        "split_ratio = 0.8"
      ]
    },
    {
      "cell_type": "markdown",
      "metadata": {
        "id": "38hzuJVnUCHY"
      },
      "source": [
        "### Create DataFrame"
      ]
    },
    {
      "cell_type": "code",
      "execution_count": 10,
      "metadata": {
        "id": "in5dQqaWUSmX",
        "colab": {
          "base_uri": "https://localhost:8080/",
          "height": 472
        },
        "outputId": "c3822ef1-6daa-4ae8-8ccc-d8edc36771e3"
      },
      "outputs": [
        {
          "output_type": "stream",
          "name": "stdout",
          "text": [
            "YF.download() has changed argument auto_adjust default to True\n"
          ]
        },
        {
          "output_type": "execute_result",
          "data": {
            "text/plain": [
              "                Close       High        Low       Open      Volume  NQ_Close  \\\n",
              "Date                                                                           \n",
              "2019-03-20  36.016281  38.692190  35.799316  38.149776   2350800.0   7409.50   \n",
              "2019-03-21  35.423237  36.160920  34.859127  36.153689   1764700.0   7534.50   \n",
              "2019-03-22  35.148418  36.124765  34.830203  35.293063    844700.0   7368.75   \n",
              "2019-03-25  35.546177  35.726981  34.714475  35.148405    440900.0   7355.25   \n",
              "2019-03-26  35.329220  35.980118  34.844665  35.437704    504700.0   7376.75   \n",
              "...               ...        ...        ...        ...         ...       ...   \n",
              "2025-02-24  38.338707  38.721603  38.186531  38.692150   7411700.0  21420.25   \n",
              "2025-02-25  38.515427  38.849234  38.274890  38.476154   6180000.0  21149.00   \n",
              "2025-02-26  38.142349  38.849236  37.837998  38.819783   6294900.0  21187.00   \n",
              "2025-02-27  37.730000  38.083443  37.464917  38.044170   7949600.0  20605.75   \n",
              "2025-02-28  38.110001  38.310001  37.619999  37.799999  10056900.0  20919.50   \n",
              "\n",
              "            SPGI_Close  \n",
              "Date                    \n",
              "2019-03-20  195.957367  \n",
              "2019-03-21  199.272736  \n",
              "2019-03-22  195.206833  \n",
              "2019-03-25  194.750870  \n",
              "2019-03-26  195.814850  \n",
              "...                ...  \n",
              "2025-02-24  532.260254  \n",
              "2025-02-25  532.420044  \n",
              "2025-02-26  529.239990  \n",
              "2025-02-27  525.359985  \n",
              "2025-02-28  533.739990  \n",
              "\n",
              "[1496 rows x 7 columns]"
            ],
            "text/html": [
              "\n",
              "  <div id=\"df-de9c5415-c38f-4e58-9959-1c0ff35879b6\" class=\"colab-df-container\">\n",
              "    <div>\n",
              "<style scoped>\n",
              "    .dataframe tbody tr th:only-of-type {\n",
              "        vertical-align: middle;\n",
              "    }\n",
              "\n",
              "    .dataframe tbody tr th {\n",
              "        vertical-align: top;\n",
              "    }\n",
              "\n",
              "    .dataframe thead th {\n",
              "        text-align: right;\n",
              "    }\n",
              "</style>\n",
              "<table border=\"1\" class=\"dataframe\">\n",
              "  <thead>\n",
              "    <tr style=\"text-align: right;\">\n",
              "      <th></th>\n",
              "      <th>Close</th>\n",
              "      <th>High</th>\n",
              "      <th>Low</th>\n",
              "      <th>Open</th>\n",
              "      <th>Volume</th>\n",
              "      <th>NQ_Close</th>\n",
              "      <th>SPGI_Close</th>\n",
              "    </tr>\n",
              "    <tr>\n",
              "      <th>Date</th>\n",
              "      <th></th>\n",
              "      <th></th>\n",
              "      <th></th>\n",
              "      <th></th>\n",
              "      <th></th>\n",
              "      <th></th>\n",
              "      <th></th>\n",
              "    </tr>\n",
              "  </thead>\n",
              "  <tbody>\n",
              "    <tr>\n",
              "      <th>2019-03-20</th>\n",
              "      <td>36.016281</td>\n",
              "      <td>38.692190</td>\n",
              "      <td>35.799316</td>\n",
              "      <td>38.149776</td>\n",
              "      <td>2350800.0</td>\n",
              "      <td>7409.50</td>\n",
              "      <td>195.957367</td>\n",
              "    </tr>\n",
              "    <tr>\n",
              "      <th>2019-03-21</th>\n",
              "      <td>35.423237</td>\n",
              "      <td>36.160920</td>\n",
              "      <td>34.859127</td>\n",
              "      <td>36.153689</td>\n",
              "      <td>1764700.0</td>\n",
              "      <td>7534.50</td>\n",
              "      <td>199.272736</td>\n",
              "    </tr>\n",
              "    <tr>\n",
              "      <th>2019-03-22</th>\n",
              "      <td>35.148418</td>\n",
              "      <td>36.124765</td>\n",
              "      <td>34.830203</td>\n",
              "      <td>35.293063</td>\n",
              "      <td>844700.0</td>\n",
              "      <td>7368.75</td>\n",
              "      <td>195.206833</td>\n",
              "    </tr>\n",
              "    <tr>\n",
              "      <th>2019-03-25</th>\n",
              "      <td>35.546177</td>\n",
              "      <td>35.726981</td>\n",
              "      <td>34.714475</td>\n",
              "      <td>35.148405</td>\n",
              "      <td>440900.0</td>\n",
              "      <td>7355.25</td>\n",
              "      <td>194.750870</td>\n",
              "    </tr>\n",
              "    <tr>\n",
              "      <th>2019-03-26</th>\n",
              "      <td>35.329220</td>\n",
              "      <td>35.980118</td>\n",
              "      <td>34.844665</td>\n",
              "      <td>35.437704</td>\n",
              "      <td>504700.0</td>\n",
              "      <td>7376.75</td>\n",
              "      <td>195.814850</td>\n",
              "    </tr>\n",
              "    <tr>\n",
              "      <th>...</th>\n",
              "      <td>...</td>\n",
              "      <td>...</td>\n",
              "      <td>...</td>\n",
              "      <td>...</td>\n",
              "      <td>...</td>\n",
              "      <td>...</td>\n",
              "      <td>...</td>\n",
              "    </tr>\n",
              "    <tr>\n",
              "      <th>2025-02-24</th>\n",
              "      <td>38.338707</td>\n",
              "      <td>38.721603</td>\n",
              "      <td>38.186531</td>\n",
              "      <td>38.692150</td>\n",
              "      <td>7411700.0</td>\n",
              "      <td>21420.25</td>\n",
              "      <td>532.260254</td>\n",
              "    </tr>\n",
              "    <tr>\n",
              "      <th>2025-02-25</th>\n",
              "      <td>38.515427</td>\n",
              "      <td>38.849234</td>\n",
              "      <td>38.274890</td>\n",
              "      <td>38.476154</td>\n",
              "      <td>6180000.0</td>\n",
              "      <td>21149.00</td>\n",
              "      <td>532.420044</td>\n",
              "    </tr>\n",
              "    <tr>\n",
              "      <th>2025-02-26</th>\n",
              "      <td>38.142349</td>\n",
              "      <td>38.849236</td>\n",
              "      <td>37.837998</td>\n",
              "      <td>38.819783</td>\n",
              "      <td>6294900.0</td>\n",
              "      <td>21187.00</td>\n",
              "      <td>529.239990</td>\n",
              "    </tr>\n",
              "    <tr>\n",
              "      <th>2025-02-27</th>\n",
              "      <td>37.730000</td>\n",
              "      <td>38.083443</td>\n",
              "      <td>37.464917</td>\n",
              "      <td>38.044170</td>\n",
              "      <td>7949600.0</td>\n",
              "      <td>20605.75</td>\n",
              "      <td>525.359985</td>\n",
              "    </tr>\n",
              "    <tr>\n",
              "      <th>2025-02-28</th>\n",
              "      <td>38.110001</td>\n",
              "      <td>38.310001</td>\n",
              "      <td>37.619999</td>\n",
              "      <td>37.799999</td>\n",
              "      <td>10056900.0</td>\n",
              "      <td>20919.50</td>\n",
              "      <td>533.739990</td>\n",
              "    </tr>\n",
              "  </tbody>\n",
              "</table>\n",
              "<p>1496 rows × 7 columns</p>\n",
              "</div>\n",
              "    <div class=\"colab-df-buttons\">\n",
              "\n",
              "  <div class=\"colab-df-container\">\n",
              "    <button class=\"colab-df-convert\" onclick=\"convertToInteractive('df-de9c5415-c38f-4e58-9959-1c0ff35879b6')\"\n",
              "            title=\"Convert this dataframe to an interactive table.\"\n",
              "            style=\"display:none;\">\n",
              "\n",
              "  <svg xmlns=\"http://www.w3.org/2000/svg\" height=\"24px\" viewBox=\"0 -960 960 960\">\n",
              "    <path d=\"M120-120v-720h720v720H120Zm60-500h600v-160H180v160Zm220 220h160v-160H400v160Zm0 220h160v-160H400v160ZM180-400h160v-160H180v160Zm440 0h160v-160H620v160ZM180-180h160v-160H180v160Zm440 0h160v-160H620v160Z\"/>\n",
              "  </svg>\n",
              "    </button>\n",
              "\n",
              "  <style>\n",
              "    .colab-df-container {\n",
              "      display:flex;\n",
              "      gap: 12px;\n",
              "    }\n",
              "\n",
              "    .colab-df-convert {\n",
              "      background-color: #E8F0FE;\n",
              "      border: none;\n",
              "      border-radius: 50%;\n",
              "      cursor: pointer;\n",
              "      display: none;\n",
              "      fill: #1967D2;\n",
              "      height: 32px;\n",
              "      padding: 0 0 0 0;\n",
              "      width: 32px;\n",
              "    }\n",
              "\n",
              "    .colab-df-convert:hover {\n",
              "      background-color: #E2EBFA;\n",
              "      box-shadow: 0px 1px 2px rgba(60, 64, 67, 0.3), 0px 1px 3px 1px rgba(60, 64, 67, 0.15);\n",
              "      fill: #174EA6;\n",
              "    }\n",
              "\n",
              "    .colab-df-buttons div {\n",
              "      margin-bottom: 4px;\n",
              "    }\n",
              "\n",
              "    [theme=dark] .colab-df-convert {\n",
              "      background-color: #3B4455;\n",
              "      fill: #D2E3FC;\n",
              "    }\n",
              "\n",
              "    [theme=dark] .colab-df-convert:hover {\n",
              "      background-color: #434B5C;\n",
              "      box-shadow: 0px 1px 3px 1px rgba(0, 0, 0, 0.15);\n",
              "      filter: drop-shadow(0px 1px 2px rgba(0, 0, 0, 0.3));\n",
              "      fill: #FFFFFF;\n",
              "    }\n",
              "  </style>\n",
              "\n",
              "    <script>\n",
              "      const buttonEl =\n",
              "        document.querySelector('#df-de9c5415-c38f-4e58-9959-1c0ff35879b6 button.colab-df-convert');\n",
              "      buttonEl.style.display =\n",
              "        google.colab.kernel.accessAllowed ? 'block' : 'none';\n",
              "\n",
              "      async function convertToInteractive(key) {\n",
              "        const element = document.querySelector('#df-de9c5415-c38f-4e58-9959-1c0ff35879b6');\n",
              "        const dataTable =\n",
              "          await google.colab.kernel.invokeFunction('convertToInteractive',\n",
              "                                                    [key], {});\n",
              "        if (!dataTable) return;\n",
              "\n",
              "        const docLinkHtml = 'Like what you see? Visit the ' +\n",
              "          '<a target=\"_blank\" href=https://colab.research.google.com/notebooks/data_table.ipynb>data table notebook</a>'\n",
              "          + ' to learn more about interactive tables.';\n",
              "        element.innerHTML = '';\n",
              "        dataTable['output_type'] = 'display_data';\n",
              "        await google.colab.output.renderOutput(dataTable, element);\n",
              "        const docLink = document.createElement('div');\n",
              "        docLink.innerHTML = docLinkHtml;\n",
              "        element.appendChild(docLink);\n",
              "      }\n",
              "    </script>\n",
              "  </div>\n",
              "\n",
              "\n",
              "<div id=\"df-8c6663c3-dedb-4162-aaa8-34806fc3355e\">\n",
              "  <button class=\"colab-df-quickchart\" onclick=\"quickchart('df-8c6663c3-dedb-4162-aaa8-34806fc3355e')\"\n",
              "            title=\"Suggest charts\"\n",
              "            style=\"display:none;\">\n",
              "\n",
              "<svg xmlns=\"http://www.w3.org/2000/svg\" height=\"24px\"viewBox=\"0 0 24 24\"\n",
              "     width=\"24px\">\n",
              "    <g>\n",
              "        <path d=\"M19 3H5c-1.1 0-2 .9-2 2v14c0 1.1.9 2 2 2h14c1.1 0 2-.9 2-2V5c0-1.1-.9-2-2-2zM9 17H7v-7h2v7zm4 0h-2V7h2v10zm4 0h-2v-4h2v4z\"/>\n",
              "    </g>\n",
              "</svg>\n",
              "  </button>\n",
              "\n",
              "<style>\n",
              "  .colab-df-quickchart {\n",
              "      --bg-color: #E8F0FE;\n",
              "      --fill-color: #1967D2;\n",
              "      --hover-bg-color: #E2EBFA;\n",
              "      --hover-fill-color: #174EA6;\n",
              "      --disabled-fill-color: #AAA;\n",
              "      --disabled-bg-color: #DDD;\n",
              "  }\n",
              "\n",
              "  [theme=dark] .colab-df-quickchart {\n",
              "      --bg-color: #3B4455;\n",
              "      --fill-color: #D2E3FC;\n",
              "      --hover-bg-color: #434B5C;\n",
              "      --hover-fill-color: #FFFFFF;\n",
              "      --disabled-bg-color: #3B4455;\n",
              "      --disabled-fill-color: #666;\n",
              "  }\n",
              "\n",
              "  .colab-df-quickchart {\n",
              "    background-color: var(--bg-color);\n",
              "    border: none;\n",
              "    border-radius: 50%;\n",
              "    cursor: pointer;\n",
              "    display: none;\n",
              "    fill: var(--fill-color);\n",
              "    height: 32px;\n",
              "    padding: 0;\n",
              "    width: 32px;\n",
              "  }\n",
              "\n",
              "  .colab-df-quickchart:hover {\n",
              "    background-color: var(--hover-bg-color);\n",
              "    box-shadow: 0 1px 2px rgba(60, 64, 67, 0.3), 0 1px 3px 1px rgba(60, 64, 67, 0.15);\n",
              "    fill: var(--button-hover-fill-color);\n",
              "  }\n",
              "\n",
              "  .colab-df-quickchart-complete:disabled,\n",
              "  .colab-df-quickchart-complete:disabled:hover {\n",
              "    background-color: var(--disabled-bg-color);\n",
              "    fill: var(--disabled-fill-color);\n",
              "    box-shadow: none;\n",
              "  }\n",
              "\n",
              "  .colab-df-spinner {\n",
              "    border: 2px solid var(--fill-color);\n",
              "    border-color: transparent;\n",
              "    border-bottom-color: var(--fill-color);\n",
              "    animation:\n",
              "      spin 1s steps(1) infinite;\n",
              "  }\n",
              "\n",
              "  @keyframes spin {\n",
              "    0% {\n",
              "      border-color: transparent;\n",
              "      border-bottom-color: var(--fill-color);\n",
              "      border-left-color: var(--fill-color);\n",
              "    }\n",
              "    20% {\n",
              "      border-color: transparent;\n",
              "      border-left-color: var(--fill-color);\n",
              "      border-top-color: var(--fill-color);\n",
              "    }\n",
              "    30% {\n",
              "      border-color: transparent;\n",
              "      border-left-color: var(--fill-color);\n",
              "      border-top-color: var(--fill-color);\n",
              "      border-right-color: var(--fill-color);\n",
              "    }\n",
              "    40% {\n",
              "      border-color: transparent;\n",
              "      border-right-color: var(--fill-color);\n",
              "      border-top-color: var(--fill-color);\n",
              "    }\n",
              "    60% {\n",
              "      border-color: transparent;\n",
              "      border-right-color: var(--fill-color);\n",
              "    }\n",
              "    80% {\n",
              "      border-color: transparent;\n",
              "      border-right-color: var(--fill-color);\n",
              "      border-bottom-color: var(--fill-color);\n",
              "    }\n",
              "    90% {\n",
              "      border-color: transparent;\n",
              "      border-bottom-color: var(--fill-color);\n",
              "    }\n",
              "  }\n",
              "</style>\n",
              "\n",
              "  <script>\n",
              "    async function quickchart(key) {\n",
              "      const quickchartButtonEl =\n",
              "        document.querySelector('#' + key + ' button');\n",
              "      quickchartButtonEl.disabled = true;  // To prevent multiple clicks.\n",
              "      quickchartButtonEl.classList.add('colab-df-spinner');\n",
              "      try {\n",
              "        const charts = await google.colab.kernel.invokeFunction(\n",
              "            'suggestCharts', [key], {});\n",
              "      } catch (error) {\n",
              "        console.error('Error during call to suggestCharts:', error);\n",
              "      }\n",
              "      quickchartButtonEl.classList.remove('colab-df-spinner');\n",
              "      quickchartButtonEl.classList.add('colab-df-quickchart-complete');\n",
              "    }\n",
              "    (() => {\n",
              "      let quickchartButtonEl =\n",
              "        document.querySelector('#df-8c6663c3-dedb-4162-aaa8-34806fc3355e button');\n",
              "      quickchartButtonEl.style.display =\n",
              "        google.colab.kernel.accessAllowed ? 'block' : 'none';\n",
              "    })();\n",
              "  </script>\n",
              "</div>\n",
              "\n",
              "    </div>\n",
              "  </div>\n"
            ],
            "application/vnd.google.colaboratory.intrinsic+json": {
              "type": "dataframe",
              "summary": "{\n  \"name\": \"load_data(ticker)\",\n  \"rows\": 1496,\n  \"fields\": [\n    {\n      \"column\": \"Date\",\n      \"properties\": {\n        \"dtype\": \"date\",\n        \"min\": \"2019-03-20 00:00:00\",\n        \"max\": \"2025-02-28 00:00:00\",\n        \"num_unique_values\": 1496,\n        \"samples\": [\n          \"2022-11-08 00:00:00\",\n          \"2024-07-31 00:00:00\",\n          \"2023-06-06 00:00:00\"\n        ],\n        \"semantic_type\": \"\",\n        \"description\": \"\"\n      }\n    },\n    {\n      \"column\": \"Close\",\n      \"properties\": {\n        \"dtype\": \"number\",\n        \"std\": 7.791945174176409,\n        \"min\": 16.897911071777344,\n        \"max\": 60.03731918334961,\n        \"num_unique_values\": 1432,\n        \"samples\": [\n          35.74303436279297,\n          52.35781478881836,\n          46.743350982666016\n        ],\n        \"semantic_type\": \"\",\n        \"description\": \"\"\n      }\n    },\n    {\n      \"column\": \"High\",\n      \"properties\": {\n        \"dtype\": \"number\",\n        \"std\": 7.761570252062418,\n        \"min\": 19.532449259642323,\n        \"max\": 61.10015292684159,\n        \"num_unique_values\": 1495,\n        \"samples\": [\n          50.64263637646828,\n          40.49863348695441,\n          48.13346286571518\n        ],\n        \"semantic_type\": \"\",\n        \"description\": \"\"\n      }\n    },\n    {\n      \"column\": \"Low\",\n      \"properties\": {\n        \"dtype\": \"number\",\n        \"std\": 7.8028549867895745,\n        \"min\": 16.859507314436172,\n        \"max\": 58.58337140928133,\n        \"num_unique_values\": 1495,\n        \"samples\": [\n          50.12432396836538,\n          39.69848001603421,\n          47.240207874559474\n        ],\n        \"semantic_type\": \"\",\n        \"description\": \"\"\n      }\n    },\n    {\n      \"column\": \"Open\",\n      \"properties\": {\n        \"dtype\": \"number\",\n        \"std\": 7.787127262174103,\n        \"min\": 17.7428069183681,\n        \"max\": 59.739732336171514,\n        \"num_unique_values\": 1496,\n        \"samples\": [\n          43.429561756581386,\n          51.64988720010086,\n          46.3180704468817\n        ],\n        \"semantic_type\": \"\",\n        \"description\": \"\"\n      }\n    },\n    {\n      \"column\": \"Volume\",\n      \"properties\": {\n        \"dtype\": \"number\",\n        \"std\": 2342472.6427465165,\n        \"min\": 440900.0,\n        \"max\": 20621800.0,\n        \"num_unique_values\": 1475,\n        \"samples\": [\n          5991700.0,\n          2609700.0,\n          5088600.0\n        ],\n        \"semantic_type\": \"\",\n        \"description\": \"\"\n      }\n    },\n    {\n      \"column\": \"NQ_Close\",\n      \"properties\": {\n        \"dtype\": \"number\",\n        \"std\": 3898.862899321495,\n        \"min\": 6984.5,\n        \"max\": 22250.5,\n        \"num_unique_values\": 1483,\n        \"samples\": [\n          7856.5,\n          12596.0,\n          13317.75\n        ],\n        \"semantic_type\": \"\",\n        \"description\": \"\"\n      }\n    },\n    {\n      \"column\": \"SPGI_Close\",\n      \"properties\": {\n        \"dtype\": \"number\",\n        \"std\": 81.82190531013396,\n        \"min\": 184.15147399902344,\n        \"max\": 542.7913208007812,\n        \"num_unique_values\": 1480,\n        \"samples\": [\n          438.2252197265625,\n          272.2622375488281,\n          334.5001220703125\n        ],\n        \"semantic_type\": \"\",\n        \"description\": \"\"\n      }\n    }\n  ]\n}"
            }
          },
          "metadata": {},
          "execution_count": 10
        }
      ],
      "source": [
        "def load_data(ticker, start='2019-03-01', end='2025-03-01'):\n",
        "\n",
        "  \"\"\"\n",
        "  Downloads stock or market index data and merges with closing values for\n",
        "  Nasdaq and S&P 500.\n",
        "\n",
        "  Parameters:\n",
        "  - ticker: Ticker symbol chosen by user, default 'DOW'\n",
        "  - start: Starting date of data collection\n",
        "  - end: Ending date of data collection\n",
        "\n",
        "  Returns:\n",
        "  - df: Merged DataFrame\n",
        "  \"\"\"\n",
        "\n",
        "  # download individual stock data\n",
        "  df_stock = yf.download(ticker, start=start, end=end, progress=False)\n",
        "\n",
        "  # download market index data\n",
        "  indexes = ['NQ=F', 'SPGI']\n",
        "  df_indexes = {}\n",
        "\n",
        "  for index in indexes:\n",
        "    df_index = yf.download(index, start=start, end=end, progress=False)\n",
        "    # ensure df_indexes only has one level before merging\n",
        "    df_indexes[index] = df_index['Close'].squeeze()\n",
        "\n",
        "  # flatten the multiIndex (removes 'Ticker' level)\n",
        "  df_stock = df_stock.T.droplevel(1).T\n",
        "\n",
        "  # convert dictionary to dataframe before merging\n",
        "  df_indexes = pd.DataFrame(df_indexes)\n",
        "  df_indexes.rename(columns={'NQ=F': 'NQ_Close', 'SPGI': 'SPGI_Close'}, inplace=True)\n",
        "\n",
        "  df = df_stock.merge(df_indexes, on='Date', how='left')\n",
        "\n",
        "  return df\n",
        "\n",
        "load_data(ticker)"
      ]
    },
    {
      "cell_type": "markdown",
      "metadata": {
        "id": "tI5_EJgaaf-J"
      },
      "source": [
        "## **Feature Engineering**"
      ]
    },
    {
      "cell_type": "markdown",
      "metadata": {
        "id": "1cH1VEmQbOnd"
      },
      "source": [
        "### Default Features"
      ]
    },
    {
      "cell_type": "code",
      "execution_count": 11,
      "metadata": {
        "id": "B_Z5tQVJbVgH"
      },
      "outputs": [],
      "source": [
        "def build_default_features(df):\n",
        "\n",
        "  \"\"\"\n",
        "  Adds technical indicators and features based on the individual stock.\n",
        "\n",
        "  Parameters:\n",
        "  - df: Merged DataFrame of stock/market data\n",
        "\n",
        "  Returns:\n",
        "  - df: Merged DataFrame with individual stock features\n",
        "  \"\"\"\n",
        "\n",
        "  # ----------------------------VOLUME------------------------------------\n",
        "  # moving averages: smooth out fluctuations and identify trends\n",
        "  df['MA_10'] = df['Close'].rolling(window=10).mean()\n",
        "  df['MA_50'] = df['Close'].rolling(window=50).mean()\n",
        "  df['MA_200'] = df['Close'].rolling(window=200).mean()\n",
        "\n",
        "  # on-balance volume: identifies buying and selling pressure\n",
        "  df['OBV'] = (np.sign(df['Close'].diff()) * df['Volume']).fillna(0).cumsum()\n",
        "\n",
        "  # volume-weighted avg price: avg price a stock traded at throughout the day\n",
        "  df['VWAP'] = (df['Close'] * df['Volume']).cumsum() / df['Volume'].cumsum()\n",
        "\n",
        "\n",
        "  # ----------------------------VOLATILITY---------------------------------\n",
        "  # rolling standard deviation: measures fluctuations over a given window\n",
        "  df['Rolling_std_10'] = df['Close'].rolling(window=10).std()\n",
        "  df['Rolling_std_20'] = df['Close'].rolling(window=20).std()\n",
        "\n",
        "  # Bollinger Bands: identify overbought/oversold conditions\n",
        "  df['BB_Middle'] = df['Close'].rolling(window=20).mean() # 20-day moving avg\n",
        "  df['BB_Upper'] = df['BB_Middle'] + (df['Rolling_std_20'] * 2)\n",
        "  df['BB_Lower'] = df['BB_Middle'] - (df['Rolling_std_20'] * 2)\n",
        "\n",
        "\n",
        "  # ------------------------------MOMENTUM---------------------------------\n",
        "  # rate of change: how much the price has changed over n days\n",
        "  df['ROC_10'] = df['Close'].pct_change(periods=10) * 100\n",
        "  df['ROC_20'] = df['Close'].pct_change(periods=20) * 100\n",
        "\n",
        "  # relative strength index\n",
        "  # df['RSI'] = df['Close']\n",
        "\n",
        "  # williams %R: used with BB to identify overbought/oversold conditions\n",
        "  df['WilliamsR'] = (df['High'].rolling(14).max() - df['Close']) / (\n",
        "      df['High'].rolling(14).max() - df['Low'].rolling(14).min()) * -100\n",
        "\n",
        "  df.dropna(inplace=True)\n",
        "\n",
        "  return df"
      ]
    },
    {
      "cell_type": "markdown",
      "metadata": {
        "id": "KPPK_iglg1c7"
      },
      "source": [
        "### Market Index Features (Nasdaq, S&P Global)"
      ]
    },
    {
      "cell_type": "code",
      "execution_count": 12,
      "metadata": {
        "id": "TzANtYFQg_b6"
      },
      "outputs": [],
      "source": [
        "def build_market_features(df):\n",
        "\n",
        "  \"\"\"\n",
        "  Adds market-based indicators and correlation with the chosen stock.\n",
        "\n",
        "  Parameters:\n",
        "  - df: Merged DataFrame\n",
        "\n",
        "  Returns:\n",
        "  - df: Merged DataFrame with stock and market index features\n",
        "  \"\"\"\n",
        "\n",
        "  try:\n",
        "    # compute rolling correlation between stock, sp500, NASDAQ\n",
        "    df['Corr_NQ'] = df['Close'].rolling(50).corr(df['NQ_Close'])\n",
        "    df['Corr_SPGI'] = df['Close'].rolling(50).corr(df['SPGI_Close'])\n",
        "\n",
        "    # moving averages of market indices\n",
        "    df['NQ_MA_50'] = df['NQ_Close'].rolling(window=50).mean()\n",
        "    df['SPGI_MA_50'] = df['SPGI_Close'].rolling(window=50).mean()\n",
        "\n",
        "    # market rate of change\n",
        "    df['NQ_ROC_10'] = df['NQ_Close'].pct_change(periods=10) * 100\n",
        "    df['SPGI_ROC_10'] = df['SPGI_Close'].pct_change(periods=10) * 100\n",
        "\n",
        "    df.dropna(inplace=True)\n",
        "\n",
        "    # print('[DEBUG] Market features added.  Shape:', df.shape)\n",
        "\n",
        "    return df\n",
        "  except Exception as e:\n",
        "    print('[ERROR] Failed to add market features:', e)\n",
        "    return None"
      ]
    },
    {
      "cell_type": "markdown",
      "metadata": {
        "id": "kB41tGsoX0qh"
      },
      "source": [
        "### Global Definition of Full Feature Set"
      ]
    },
    {
      "cell_type": "code",
      "execution_count": 13,
      "metadata": {
        "id": "Inu2lbIrX601"
      },
      "outputs": [],
      "source": [
        "FEATURES = ['Close', 'NQ_Close', 'SPGI_Close', 'MA_10', 'MA_50', 'MA_200',\n",
        "              'OBV', 'VWAP', 'Rolling_std_10', 'Rolling_std_20', 'BB_Middle',\n",
        "              'BB_Upper', 'BB_Lower', 'ROC_10', 'ROC_20', 'WilliamsR',\n",
        "              'Corr_NQ', 'Corr_SPGI', 'NQ_MA_50', 'SPGI_MA_50']"
      ]
    },
    {
      "cell_type": "markdown",
      "metadata": {
        "id": "y07kEDxYiEqj"
      },
      "source": [
        "## **Data Preprocessing**"
      ]
    },
    {
      "cell_type": "markdown",
      "metadata": {
        "id": "iew5rXgKSWCE"
      },
      "source": [
        "### Prepare Data"
      ]
    },
    {
      "cell_type": "code",
      "execution_count": 14,
      "metadata": {
        "id": "etpQMPqWaLnN",
        "colab": {
          "base_uri": "https://localhost:8080/"
        },
        "outputId": "4846b52c-a138-4410-f1ce-1eeca418a0cc"
      },
      "outputs": [
        {
          "output_type": "stream",
          "name": "stdout",
          "text": [
            "\n",
            "Stock and market data downloaded, DataFrame created.\n",
            "Individual stock features calculated.\n",
            "Market index features calculated.\n",
            "\n",
            "DataFrame ready for preprocessing.\n",
            "\n"
          ]
        }
      ],
      "source": [
        "def prepare_data(ticker, start='2015-01-01', end='2025-01-01'):\n",
        "\n",
        "  \"\"\"\n",
        "  Loads stock and market index data for a given ticker and adds all features.\n",
        "\n",
        "  Parameters:\n",
        "  - ticker: Ticker symbol set by user, default 'AAPL'\n",
        "  - start: Starting date of data collection\n",
        "  - end: Ending date of data collection\n",
        "\n",
        "  Returns:\n",
        "  - df: Fully processed DataFrame\n",
        "  \"\"\"\n",
        "\n",
        "  df = load_data(ticker, start=start, end=end)\n",
        "  df = build_default_features(df)\n",
        "  df = build_market_features(df)\n",
        "\n",
        "  print('\\nStock and market data downloaded, DataFrame created.\\nIndividual stock features calculated.\\nMarket index features calculated.')\n",
        "\n",
        "  # clean extraneous columns\n",
        "  df = df.drop(['High', 'Low', 'Open', 'Volume'], axis=1)\n",
        "\n",
        "  print('\\nDataFrame ready for preprocessing.\\n')\n",
        "\n",
        "  return df\n",
        "\n",
        "df = prepare_data(ticker)"
      ]
    },
    {
      "cell_type": "markdown",
      "metadata": {
        "id": "njlchEYzSzS6"
      },
      "source": [
        "### Preprocess Data"
      ]
    },
    {
      "cell_type": "code",
      "execution_count": 15,
      "metadata": {
        "id": "jf74f565ich3",
        "colab": {
          "base_uri": "https://localhost:8080/"
        },
        "outputId": "ecfa32d9-0c40-4833-ee6c-71db094dc516"
      },
      "outputs": [
        {
          "output_type": "stream",
          "name": "stdout",
          "text": [
            "DataFrame preprocessed and ready for modeling.\n",
            "\n",
            "\n"
          ]
        }
      ],
      "source": [
        "def preprocess_data(df, lookback, split_ratio, features=FEATURES):\n",
        "\n",
        "  \"\"\"\n",
        "  Prepares the data for training by scaling relevant features down to values\n",
        "  between 0 and 1 for interpretability.  Splits the data into train and test\n",
        "  sets.\n",
        "\n",
        "  Parameters:\n",
        "  - df: Merged dataframe of stock/market data\n",
        "  - lookback: Globally-defined lookback window\n",
        "  - split_ratio: Globally defined split ratio for train and test sets\n",
        "  - features: Globally-defined feature set\n",
        "\n",
        "  Returns:\n",
        "  X_train, X_test, y_train, y_test, scaler, df_features\n",
        "  \"\"\"\n",
        "\n",
        "  scaler = MinMaxScaler()\n",
        "  df_features = df[features]\n",
        "\n",
        "  scaled_data = scaler.fit_transform(df_features)\n",
        "\n",
        "  X, y = [], []\n",
        "\n",
        "  for i in range(lookback, len(scaled_data)):\n",
        "    X.append(scaled_data[i - lookback:i])\n",
        "    y.append(scaled_data[i, 0]) # only predicting 'Close' price\n",
        "\n",
        "  # cast X and y sequence lists to arrays\n",
        "  X, y = np.array(X), np.array(y)\n",
        "  y = y.reshape(-1) # flatten to 1-D array\n",
        "\n",
        "  # split data into train and test sets along time axis\n",
        "  split_index = int(len(X)*split_ratio)\n",
        "  X_train, X_test = X[:split_index], X[split_index:]\n",
        "  y_train, y_test = y[:split_index], y[split_index:]\n",
        "\n",
        "  print('DataFrame preprocessed and ready for modeling.\\n\\n')\n",
        "\n",
        "  return X_train, X_test, y_train, y_test, scaler, df_features\n",
        "\n",
        "X_train, X_test, y_train, y_test, scaler, df = preprocess_data(df, lookback, split_ratio)"
      ]
    },
    {
      "cell_type": "markdown",
      "metadata": {
        "id": "GboA3VdqAvMX"
      },
      "source": [
        "### Correlation Matrix of Features"
      ]
    },
    {
      "cell_type": "code",
      "execution_count": 31,
      "metadata": {
        "colab": {
          "base_uri": "https://localhost:8080/",
          "height": 784
        },
        "id": "WbUoGAILA4vJ",
        "outputId": "f05c87b1-794d-4172-9b19-ed727a2c509d"
      },
      "outputs": [
        {
          "output_type": "display_data",
          "data": {
            "text/plain": [
              "<Figure size 1000x800 with 2 Axes>"
            ],
            "image/png": "[encoded data removed]"
          },
          "metadata": {}
        }
      ],
      "source": [
        "def show_feature_correlation(df):\n",
        "\n",
        "  \"\"\"\n",
        "  Plots a correlation matrix of the features after scaling.\n",
        "\n",
        "  Parameters:\n",
        "  - df: DataFrame of features from preprocess_data()\n",
        "  \"\"\"\n",
        "\n",
        "  corr_matrix = df.corr()\n",
        "  plt.figure(figsize=(10,8))\n",
        "  sns.heatmap(corr_matrix, annot=True, cmap='coolwarm', fmt='.2f')\n",
        "  plt.title('Feature Correlation Matrix')\n",
        "  plt.show()\n",
        "\n",
        "show_feature_correlation(df)"
      ]
    },
    {
      "cell_type": "markdown",
      "metadata": {
        "id": "SNj48C8qlZFq"
      },
      "source": [
        "## **Modeling**"
      ]
    },
    {
      "cell_type": "markdown",
      "metadata": {
        "id": "VDQhE6ISlqgj"
      },
      "source": [
        "**Recall:**\n",
        "\n",
        "X_train.shape[0] --> N --> samples\n",
        "\n",
        "X_train.shape[1] --> T --> time\n",
        "\n",
        "X_train.shape[2] --> D --> features"
      ]
    },
    {
      "cell_type": "markdown",
      "source": [
        "### Model Configuration"
      ],
      "metadata": {
        "id": "rCXl4Lscepin"
      }
    },
    {
      "cell_type": "code",
      "source": [
        "def get_model_config(ticker):\n",
        "  \"\"\"\n",
        "  Returns model hyperparameters based on whether the ticker is an index or\n",
        "  individual stock.\n",
        "  \"\"\"\n",
        "\n",
        "  stock_tickers = ['AAPL', 'FOX', 'JPM', 'NFLX', 'SPOT']\n",
        "  index_tickers = ['DOW', '^GSPC', '^IXIC', '^RUT']\n",
        "\n",
        "  # individual stock hyperparameter optimization\n",
        "  if ticker in stock_tickers:\n",
        "    config = {\n",
        "        # 'dense_unit_1': 25,\n",
        "        # 'dropout_1': 0.2,\n",
        "        # 'dense_unit_2': 25,\n",
        "        # 'dropout_2': 0.3\n",
        "\n",
        "        'dense_unit_1': 25,\n",
        "        'dropout_1': 0.2,\n",
        "        'dense_unit_2': 50,\n",
        "        'dropout_2': 0.3\n",
        "    }\n",
        "  elif ticker in index_tickers:\n",
        "    config = {\n",
        "        'dense_unit_1': 25,\n",
        "        'dropout_1': 0.1,\n",
        "        'dense_unit_2': 50,\n",
        "        'dropout_2': 0.1\n",
        "    }\n",
        "  else:\n",
        "    config = {'dropout_1': 0.2, 'dropout_2': 0.2,\n",
        "              'dense_unit_1': 25, 'dense_unit_2': 50}\n",
        "\n",
        "  print(f\"Training model for {ticker} with configuration: {config}\\n\\n\")\n",
        "  return config\n",
        "\n",
        "config = get_model_config(ticker)"
      ],
      "metadata": {
        "colab": {
          "base_uri": "https://localhost:8080/"
        },
        "id": "wd4-0RV3eu9T",
        "outputId": "a2dd0b95-5736-439f-b447-8eb6b5f9ef7b"
      },
      "execution_count": 41,
      "outputs": [
        {
          "output_type": "stream",
          "name": "stdout",
          "text": [
            "Training model for DOW with configuration: {'dense_unit_1': 25, 'dropout_1': 0.1, 'dense_unit_2': 50, 'dropout_2': 0.1}\n",
            "\n",
            "\n"
          ]
        }
      ]
    },
    {
      "cell_type": "markdown",
      "metadata": {
        "id": "IZ-VqgJUUNdY"
      },
      "source": [
        "### Model Architecture"
      ]
    },
    {
      "cell_type": "code",
      "execution_count": 18,
      "metadata": {
        "id": "KBUGnYqBmA41"
      },
      "outputs": [],
      "source": [
        "def train_lstm(X_train, y_train, X_test, y_test, epochs=75, batch_size=32,\n",
        "                                                              config=config):\n",
        "\n",
        "  \"\"\"\n",
        "  Trains and compiles a sequential model on an LSTM neural network with\n",
        "  time series data.\n",
        "\n",
        "  Parameters:\n",
        "  - X_train: Training set input features\n",
        "  - y_train: Training set actual values\n",
        "  - X_test: Test set input features\n",
        "  - y_test: Test set actual values\n",
        "  - epochs: Number of full iterations\n",
        "  - batch_size: Number of training samples processed in a single epoch\n",
        "\n",
        "  Returns:\n",
        "  model, history\n",
        "  \"\"\"\n",
        "\n",
        "  input_shape = (X_train.shape[1], X_train.shape[2])\n",
        "\n",
        "  model = Sequential([\n",
        "        Input(shape=input_shape),\n",
        "        LSTM(100, return_sequences=True),\n",
        "        Dense(config['dense_unit_1']),\n",
        "        Dropout(config['dropout_1']),\n",
        "        LSTM(50),\n",
        "        Dense(config['dense_unit_2']),\n",
        "        Dropout(config['dropout_2']),\n",
        "        Dense(1)\n",
        "    ])\n",
        "\n",
        "  model.compile(optimizer=Adam(learning_rate=0.0001), loss='mse')\n",
        "  history = model.fit(X_train, y_train, validation_data=(X_test, y_test),\n",
        "                                    epochs=epochs, batch_size=batch_size,\n",
        "                                                              verbose=2)\n",
        "\n",
        "  return model, history"
      ]
    },
    {
      "cell_type": "markdown",
      "metadata": {
        "id": "T8V9LJB9UmW9"
      },
      "source": [
        "### Train and Compile"
      ]
    },
    {
      "cell_type": "code",
      "execution_count": 19,
      "metadata": {
        "colab": {
          "base_uri": "https://localhost:8080/"
        },
        "id": "LA0vFEQE-F-B",
        "outputId": "a2453ff6-1c4c-4b68-e2eb-6ad6553beeaa"
      },
      "outputs": [
        {
          "output_type": "stream",
          "name": "stdout",
          "text": [
            "Epoch 1/75\n",
            "29/29 - 13s - 463ms/step - loss: 0.2589 - val_loss: 0.0125\n",
            "Epoch 2/75\n",
            "29/29 - 1s - 21ms/step - loss: 0.0179 - val_loss: 0.0082\n",
            "Epoch 3/75\n",
            "29/29 - 1s - 23ms/step - loss: 0.0125 - val_loss: 0.0090\n",
            "Epoch 4/75\n",
            "29/29 - 1s - 30ms/step - loss: 0.0108 - val_loss: 0.0077\n",
            "Epoch 5/75\n",
            "29/29 - 1s - 28ms/step - loss: 0.0091 - val_loss: 0.0069\n",
            "Epoch 6/75\n",
            "29/29 - 1s - 48ms/step - loss: 0.0086 - val_loss: 0.0065\n",
            "Epoch 7/75\n",
            "29/29 - 1s - 28ms/step - loss: 0.0088 - val_loss: 0.0056\n",
            "Epoch 8/75\n",
            "29/29 - 0s - 12ms/step - loss: 0.0074 - val_loss: 0.0050\n",
            "Epoch 9/75\n",
            "29/29 - 1s - 17ms/step - loss: 0.0076 - val_loss: 0.0043\n",
            "Epoch 10/75\n",
            "29/29 - 1s - 21ms/step - loss: 0.0070 - val_loss: 0.0042\n",
            "Epoch 11/75\n",
            "29/29 - 1s - 25ms/step - loss: 0.0061 - val_loss: 0.0038\n",
            "Epoch 12/75\n",
            "29/29 - 1s - 18ms/step - loss: 0.0059 - val_loss: 0.0035\n",
            "Epoch 13/75\n",
            "29/29 - 0s - 17ms/step - loss: 0.0053 - val_loss: 0.0030\n",
            "Epoch 14/75\n",
            "29/29 - 1s - 21ms/step - loss: 0.0053 - val_loss: 0.0025\n",
            "Epoch 15/75\n",
            "29/29 - 1s - 21ms/step - loss: 0.0057 - val_loss: 0.0028\n",
            "Epoch 16/75\n",
            "29/29 - 1s - 21ms/step - loss: 0.0051 - val_loss: 0.0024\n",
            "Epoch 17/75\n",
            "29/29 - 0s - 12ms/step - loss: 0.0047 - val_loss: 0.0023\n",
            "Epoch 18/75\n",
            "29/29 - 1s - 21ms/step - loss: 0.0048 - val_loss: 0.0020\n",
            "Epoch 19/75\n",
            "29/29 - 1s - 22ms/step - loss: 0.0044 - val_loss: 0.0019\n",
            "Epoch 20/75\n",
            "29/29 - 1s - 21ms/step - loss: 0.0047 - val_loss: 0.0018\n",
            "Epoch 21/75\n",
            "29/29 - 1s - 22ms/step - loss: 0.0041 - val_loss: 0.0024\n",
            "Epoch 22/75\n",
            "29/29 - 1s - 21ms/step - loss: 0.0044 - val_loss: 0.0017\n",
            "Epoch 23/75\n",
            "29/29 - 1s - 21ms/step - loss: 0.0043 - val_loss: 0.0015\n",
            "Epoch 24/75\n",
            "29/29 - 0s - 12ms/step - loss: 0.0042 - val_loss: 0.0014\n",
            "Epoch 25/75\n",
            "29/29 - 1s - 22ms/step - loss: 0.0043 - val_loss: 0.0014\n",
            "Epoch 26/75\n",
            "29/29 - 1s - 22ms/step - loss: 0.0039 - val_loss: 0.0014\n",
            "Epoch 27/75\n",
            "29/29 - 1s - 21ms/step - loss: 0.0041 - val_loss: 0.0013\n",
            "Epoch 28/75\n",
            "29/29 - 0s - 12ms/step - loss: 0.0035 - val_loss: 0.0016\n",
            "Epoch 29/75\n",
            "29/29 - 1s - 21ms/step - loss: 0.0041 - val_loss: 0.0013\n",
            "Epoch 30/75\n",
            "29/29 - 1s - 27ms/step - loss: 0.0037 - val_loss: 0.0012\n",
            "Epoch 31/75\n",
            "29/29 - 1s - 24ms/step - loss: 0.0038 - val_loss: 0.0012\n",
            "Epoch 32/75\n",
            "29/29 - 1s - 22ms/step - loss: 0.0034 - val_loss: 0.0012\n",
            "Epoch 33/75\n",
            "29/29 - 0s - 16ms/step - loss: 0.0037 - val_loss: 0.0011\n",
            "Epoch 34/75\n",
            "29/29 - 1s - 18ms/step - loss: 0.0035 - val_loss: 0.0012\n",
            "Epoch 35/75\n",
            "29/29 - 1s - 22ms/step - loss: 0.0036 - val_loss: 0.0011\n",
            "Epoch 36/75\n",
            "29/29 - 1s - 18ms/step - loss: 0.0036 - val_loss: 0.0013\n",
            "Epoch 37/75\n",
            "29/29 - 0s - 15ms/step - loss: 0.0034 - val_loss: 0.0013\n",
            "Epoch 38/75\n",
            "29/29 - 0s - 12ms/step - loss: 0.0034 - val_loss: 0.0012\n",
            "Epoch 39/75\n",
            "29/29 - 1s - 17ms/step - loss: 0.0034 - val_loss: 0.0010\n",
            "Epoch 40/75\n",
            "29/29 - 1s - 26ms/step - loss: 0.0035 - val_loss: 0.0018\n",
            "Epoch 41/75\n",
            "29/29 - 1s - 23ms/step - loss: 0.0032 - val_loss: 0.0013\n",
            "Epoch 42/75\n",
            "29/29 - 1s - 24ms/step - loss: 0.0032 - val_loss: 0.0010\n",
            "Epoch 43/75\n",
            "29/29 - 1s - 30ms/step - loss: 0.0032 - val_loss: 0.0010\n",
            "Epoch 44/75\n",
            "29/29 - 1s - 33ms/step - loss: 0.0031 - val_loss: 0.0013\n",
            "Epoch 45/75\n",
            "29/29 - 1s - 25ms/step - loss: 0.0033 - val_loss: 0.0017\n",
            "Epoch 46/75\n",
            "29/29 - 1s - 21ms/step - loss: 0.0031 - val_loss: 0.0010\n",
            "Epoch 47/75\n",
            "29/29 - 1s - 18ms/step - loss: 0.0033 - val_loss: 0.0016\n",
            "Epoch 48/75\n",
            "29/29 - 1s - 30ms/step - loss: 0.0032 - val_loss: 0.0016\n",
            "Epoch 49/75\n",
            "29/29 - 1s - 37ms/step - loss: 0.0032 - val_loss: 0.0013\n",
            "Epoch 50/75\n",
            "29/29 - 1s - 37ms/step - loss: 0.0031 - val_loss: 0.0011\n",
            "Epoch 51/75\n",
            "29/29 - 1s - 32ms/step - loss: 0.0028 - val_loss: 9.2084e-04\n",
            "Epoch 52/75\n",
            "29/29 - 0s - 17ms/step - loss: 0.0031 - val_loss: 9.8530e-04\n",
            "Epoch 53/75\n",
            "29/29 - 0s - 12ms/step - loss: 0.0030 - val_loss: 8.9122e-04\n",
            "Epoch 54/75\n",
            "29/29 - 1s - 21ms/step - loss: 0.0029 - val_loss: 0.0013\n",
            "Epoch 55/75\n",
            "29/29 - 0s - 12ms/step - loss: 0.0028 - val_loss: 8.7621e-04\n",
            "Epoch 56/75\n",
            "29/29 - 0s - 13ms/step - loss: 0.0031 - val_loss: 0.0018\n",
            "Epoch 57/75\n",
            "29/29 - 1s - 21ms/step - loss: 0.0028 - val_loss: 0.0012\n",
            "Epoch 58/75\n",
            "29/29 - 0s - 11ms/step - loss: 0.0027 - val_loss: 0.0010\n",
            "Epoch 59/75\n",
            "29/29 - 1s - 22ms/step - loss: 0.0026 - val_loss: 9.9143e-04\n",
            "Epoch 60/75\n",
            "29/29 - 0s - 12ms/step - loss: 0.0026 - val_loss: 0.0010\n",
            "Epoch 61/75\n",
            "29/29 - 0s - 12ms/step - loss: 0.0026 - val_loss: 0.0013\n",
            "Epoch 62/75\n",
            "29/29 - 1s - 21ms/step - loss: 0.0027 - val_loss: 8.9077e-04\n",
            "Epoch 63/75\n",
            "29/29 - 0s - 12ms/step - loss: 0.0025 - val_loss: 9.0423e-04\n",
            "Epoch 64/75\n",
            "29/29 - 1s - 22ms/step - loss: 0.0026 - val_loss: 0.0012\n",
            "Epoch 65/75\n",
            "29/29 - 1s - 21ms/step - loss: 0.0028 - val_loss: 9.5814e-04\n",
            "Epoch 66/75\n",
            "29/29 - 0s - 11ms/step - loss: 0.0025 - val_loss: 0.0012\n",
            "Epoch 67/75\n",
            "29/29 - 1s - 22ms/step - loss: 0.0025 - val_loss: 0.0012\n",
            "Epoch 68/75\n",
            "29/29 - 1s - 21ms/step - loss: 0.0028 - val_loss: 0.0014\n",
            "Epoch 69/75\n",
            "29/29 - 1s - 22ms/step - loss: 0.0025 - val_loss: 0.0012\n",
            "Epoch 70/75\n",
            "29/29 - 1s - 29ms/step - loss: 0.0027 - val_loss: 9.3929e-04\n",
            "Epoch 71/75\n",
            "29/29 - 1s - 22ms/step - loss: 0.0025 - val_loss: 8.7399e-04\n",
            "Epoch 72/75\n",
            "29/29 - 1s - 20ms/step - loss: 0.0025 - val_loss: 0.0021\n",
            "Epoch 73/75\n",
            "29/29 - 0s - 16ms/step - loss: 0.0024 - val_loss: 9.2911e-04\n",
            "Epoch 74/75\n",
            "29/29 - 1s - 18ms/step - loss: 0.0027 - val_loss: 0.0020\n",
            "Epoch 75/75\n",
            "29/29 - 0s - 11ms/step - loss: 0.0027 - val_loss: 8.7231e-04\n",
            "\u001b[1m8/8\u001b[0m \u001b[32m━━━━━━━━━━━━━━━━━━━━\u001b[0m\u001b[37m\u001b[0m \u001b[1m0s\u001b[0m 30ms/step\n"
          ]
        }
      ],
      "source": [
        "lstm_model, history = train_lstm(X_train, y_train, X_test, y_test)\n",
        "lstm_predictions = lstm_model.predict(X_test)"
      ]
    },
    {
      "cell_type": "markdown",
      "source": [
        "### Model Summary"
      ],
      "metadata": {
        "id": "W5jzdbP6vozN"
      }
    },
    {
      "cell_type": "code",
      "source": [
        "def print_model_summary(model):\n",
        "  model.summary()\n",
        "\n",
        "summary = print_model_summary(lstm_model)"
      ],
      "metadata": {
        "colab": {
          "base_uri": "https://localhost:8080/",
          "height": 371
        },
        "id": "L_mGlQr1vrkE",
        "outputId": "34175083-583a-4444-c4c2-67aff8f94dcf"
      },
      "execution_count": 20,
      "outputs": [
        {
          "output_type": "display_data",
          "data": {
            "text/plain": [
              "\u001b[1mModel: \"sequential\"\u001b[0m\n"
            ],
            "text/html": [
              "<pre style=\"white-space:pre;overflow-x:auto;line-height:normal;font-family:Menlo,'DejaVu Sans Mono',consolas,'Courier New',monospace\"><span style=\"font-weight: bold\">Model: \"sequential\"</span>\n",
              "</pre>\n"
            ]
          },
          "metadata": {}
        },
        {
          "output_type": "display_data",
          "data": {
            "text/plain": [
              "┏━━━━━━━━━━━━━━━━━━━━━━━━━━━━━━━━━━━━━━┳━━━━━━━━━━━━━━━━━━━━━━━━━━━━━┳━━━━━━━━━━━━━━━━━┓\n",
              "┃\u001b[1m \u001b[0m\u001b[1mLayer (type)                        \u001b[0m\u001b[1m \u001b[0m┃\u001b[1m \u001b[0m\u001b[1mOutput Shape               \u001b[0m\u001b[1m \u001b[0m┃\u001b[1m \u001b[0m\u001b[1m        Param #\u001b[0m\u001b[1m \u001b[0m┃\n",
              "┡━━━━━━━━━━━━━━━━━━━━━━━━━━━━━━━━━━━━━━╇━━━━━━━━━━━━━━━━━━━━━━━━━━━━━╇━━━━━━━━━━━━━━━━━┩\n",
              "│ lstm (\u001b[38;5;33mLSTM\u001b[0m)                          │ (\u001b[38;5;45mNone\u001b[0m, \u001b[38;5;34m60\u001b[0m, \u001b[38;5;34m100\u001b[0m)             │          \u001b[38;5;34m48,400\u001b[0m │\n",
              "├──────────────────────────────────────┼─────────────────────────────┼─────────────────┤\n",
              "│ dense (\u001b[38;5;33mDense\u001b[0m)                        │ (\u001b[38;5;45mNone\u001b[0m, \u001b[38;5;34m60\u001b[0m, \u001b[38;5;34m25\u001b[0m)              │           \u001b[38;5;34m2,525\u001b[0m │\n",
              "├──────────────────────────────────────┼─────────────────────────────┼─────────────────┤\n",
              "│ dropout (\u001b[38;5;33mDropout\u001b[0m)                    │ (\u001b[38;5;45mNone\u001b[0m, \u001b[38;5;34m60\u001b[0m, \u001b[38;5;34m25\u001b[0m)              │               \u001b[38;5;34m0\u001b[0m │\n",
              "├──────────────────────────────────────┼─────────────────────────────┼─────────────────┤\n",
              "│ lstm_1 (\u001b[38;5;33mLSTM\u001b[0m)                        │ (\u001b[38;5;45mNone\u001b[0m, \u001b[38;5;34m50\u001b[0m)                  │          \u001b[38;5;34m15,200\u001b[0m │\n",
              "├──────────────────────────────────────┼─────────────────────────────┼─────────────────┤\n",
              "│ dense_1 (\u001b[38;5;33mDense\u001b[0m)                      │ (\u001b[38;5;45mNone\u001b[0m, \u001b[38;5;34m50\u001b[0m)                  │           \u001b[38;5;34m2,550\u001b[0m │\n",
              "├──────────────────────────────────────┼─────────────────────────────┼─────────────────┤\n",
              "│ dropout_1 (\u001b[38;5;33mDropout\u001b[0m)                  │ (\u001b[38;5;45mNone\u001b[0m, \u001b[38;5;34m50\u001b[0m)                  │               \u001b[38;5;34m0\u001b[0m │\n",
              "├──────────────────────────────────────┼─────────────────────────────┼─────────────────┤\n",
              "│ dense_2 (\u001b[38;5;33mDense\u001b[0m)                      │ (\u001b[38;5;45mNone\u001b[0m, \u001b[38;5;34m1\u001b[0m)                   │              \u001b[38;5;34m51\u001b[0m │\n",
              "└──────────────────────────────────────┴─────────────────────────────┴─────────────────┘\n"
            ],
            "text/html": [
              "<pre style=\"white-space:pre;overflow-x:auto;line-height:normal;font-family:Menlo,'DejaVu Sans Mono',consolas,'Courier New',monospace\">┏━━━━━━━━━━━━━━━━━━━━━━━━━━━━━━━━━━━━━━┳━━━━━━━━━━━━━━━━━━━━━━━━━━━━━┳━━━━━━━━━━━━━━━━━┓\n",
              "┃<span style=\"font-weight: bold\"> Layer (type)                         </span>┃<span style=\"font-weight: bold\"> Output Shape                </span>┃<span style=\"font-weight: bold\">         Param # </span>┃\n",
              "┡━━━━━━━━━━━━━━━━━━━━━━━━━━━━━━━━━━━━━━╇━━━━━━━━━━━━━━━━━━━━━━━━━━━━━╇━━━━━━━━━━━━━━━━━┩\n",
              "│ lstm (<span style=\"color: #0087ff; text-decoration-color: #0087ff\">LSTM</span>)                          │ (<span style=\"color: #00d7ff; text-decoration-color: #00d7ff\">None</span>, <span style=\"color: #00af00; text-decoration-color: #00af00\">60</span>, <span style=\"color: #00af00; text-decoration-color: #00af00\">100</span>)             │          <span style=\"color: #00af00; text-decoration-color: #00af00\">48,400</span> │\n",
              "├──────────────────────────────────────┼─────────────────────────────┼─────────────────┤\n",
              "│ dense (<span style=\"color: #0087ff; text-decoration-color: #0087ff\">Dense</span>)                        │ (<span style=\"color: #00d7ff; text-decoration-color: #00d7ff\">None</span>, <span style=\"color: #00af00; text-decoration-color: #00af00\">60</span>, <span style=\"color: #00af00; text-decoration-color: #00af00\">25</span>)              │           <span style=\"color: #00af00; text-decoration-color: #00af00\">2,525</span> │\n",
              "├──────────────────────────────────────┼─────────────────────────────┼─────────────────┤\n",
              "│ dropout (<span style=\"color: #0087ff; text-decoration-color: #0087ff\">Dropout</span>)                    │ (<span style=\"color: #00d7ff; text-decoration-color: #00d7ff\">None</span>, <span style=\"color: #00af00; text-decoration-color: #00af00\">60</span>, <span style=\"color: #00af00; text-decoration-color: #00af00\">25</span>)              │               <span style=\"color: #00af00; text-decoration-color: #00af00\">0</span> │\n",
              "├──────────────────────────────────────┼─────────────────────────────┼─────────────────┤\n",
              "│ lstm_1 (<span style=\"color: #0087ff; text-decoration-color: #0087ff\">LSTM</span>)                        │ (<span style=\"color: #00d7ff; text-decoration-color: #00d7ff\">None</span>, <span style=\"color: #00af00; text-decoration-color: #00af00\">50</span>)                  │          <span style=\"color: #00af00; text-decoration-color: #00af00\">15,200</span> │\n",
              "├──────────────────────────────────────┼─────────────────────────────┼─────────────────┤\n",
              "│ dense_1 (<span style=\"color: #0087ff; text-decoration-color: #0087ff\">Dense</span>)                      │ (<span style=\"color: #00d7ff; text-decoration-color: #00d7ff\">None</span>, <span style=\"color: #00af00; text-decoration-color: #00af00\">50</span>)                  │           <span style=\"color: #00af00; text-decoration-color: #00af00\">2,550</span> │\n",
              "├──────────────────────────────────────┼─────────────────────────────┼─────────────────┤\n",
              "│ dropout_1 (<span style=\"color: #0087ff; text-decoration-color: #0087ff\">Dropout</span>)                  │ (<span style=\"color: #00d7ff; text-decoration-color: #00d7ff\">None</span>, <span style=\"color: #00af00; text-decoration-color: #00af00\">50</span>)                  │               <span style=\"color: #00af00; text-decoration-color: #00af00\">0</span> │\n",
              "├──────────────────────────────────────┼─────────────────────────────┼─────────────────┤\n",
              "│ dense_2 (<span style=\"color: #0087ff; text-decoration-color: #0087ff\">Dense</span>)                      │ (<span style=\"color: #00d7ff; text-decoration-color: #00d7ff\">None</span>, <span style=\"color: #00af00; text-decoration-color: #00af00\">1</span>)                   │              <span style=\"color: #00af00; text-decoration-color: #00af00\">51</span> │\n",
              "└──────────────────────────────────────┴─────────────────────────────┴─────────────────┘\n",
              "</pre>\n"
            ]
          },
          "metadata": {}
        },
        {
          "output_type": "display_data",
          "data": {
            "text/plain": [
              "\u001b[1m Total params: \u001b[0m\u001b[38;5;34m206,180\u001b[0m (805.39 KB)\n"
            ],
            "text/html": [
              "<pre style=\"white-space:pre;overflow-x:auto;line-height:normal;font-family:Menlo,'DejaVu Sans Mono',consolas,'Courier New',monospace\"><span style=\"font-weight: bold\"> Total params: </span><span style=\"color: #00af00; text-decoration-color: #00af00\">206,180</span> (805.39 KB)\n",
              "</pre>\n"
            ]
          },
          "metadata": {}
        },
        {
          "output_type": "display_data",
          "data": {
            "text/plain": [
              "\u001b[1m Trainable params: \u001b[0m\u001b[38;5;34m68,726\u001b[0m (268.46 KB)\n"
            ],
            "text/html": [
              "<pre style=\"white-space:pre;overflow-x:auto;line-height:normal;font-family:Menlo,'DejaVu Sans Mono',consolas,'Courier New',monospace\"><span style=\"font-weight: bold\"> Trainable params: </span><span style=\"color: #00af00; text-decoration-color: #00af00\">68,726</span> (268.46 KB)\n",
              "</pre>\n"
            ]
          },
          "metadata": {}
        },
        {
          "output_type": "display_data",
          "data": {
            "text/plain": [
              "\u001b[1m Non-trainable params: \u001b[0m\u001b[38;5;34m0\u001b[0m (0.00 B)\n"
            ],
            "text/html": [
              "<pre style=\"white-space:pre;overflow-x:auto;line-height:normal;font-family:Menlo,'DejaVu Sans Mono',consolas,'Courier New',monospace\"><span style=\"font-weight: bold\"> Non-trainable params: </span><span style=\"color: #00af00; text-decoration-color: #00af00\">0</span> (0.00 B)\n",
              "</pre>\n"
            ]
          },
          "metadata": {}
        },
        {
          "output_type": "display_data",
          "data": {
            "text/plain": [
              "\u001b[1m Optimizer params: \u001b[0m\u001b[38;5;34m137,454\u001b[0m (536.93 KB)\n"
            ],
            "text/html": [
              "<pre style=\"white-space:pre;overflow-x:auto;line-height:normal;font-family:Menlo,'DejaVu Sans Mono',consolas,'Courier New',monospace\"><span style=\"font-weight: bold\"> Optimizer params: </span><span style=\"color: #00af00; text-decoration-color: #00af00\">137,454</span> (536.93 KB)\n",
              "</pre>\n"
            ]
          },
          "metadata": {}
        }
      ]
    },
    {
      "cell_type": "markdown",
      "source": [
        "## **Validation**"
      ],
      "metadata": {
        "id": "Lj4JSAgrYP_l"
      }
    },
    {
      "cell_type": "markdown",
      "metadata": {
        "id": "f6Y57dgLCUdj"
      },
      "source": [
        "### Calculate Loss (MSE, RMSE, MAE)"
      ]
    },
    {
      "cell_type": "code",
      "execution_count": 21,
      "metadata": {
        "colab": {
          "base_uri": "https://localhost:8080/"
        },
        "id": "GO9zAwW5gUE1",
        "outputId": "5013db56-954b-49db-e231-28362f982dbc"
      },
      "outputs": [
        {
          "output_type": "stream",
          "name": "stdout",
          "text": [
            "\n",
            "MSE: 0.0008723071801700544\n",
            "RMSE: 0.029534846879069043\n",
            "MAE: 0.024031318236191337\n",
            "\n"
          ]
        }
      ],
      "source": [
        "def calculate_loss(y_test, lstm_predictions):\n",
        "\n",
        "  mse = mean_squared_error(y_test, lstm_predictions)\n",
        "  rmse = root_mean_squared_error(y_test, lstm_predictions)\n",
        "  mae = mean_absolute_error(y_test, lstm_predictions)\n",
        "\n",
        "  print(f'\\nMSE: {mse}')\n",
        "  print(f'RMSE: {rmse}')\n",
        "  print(f'MAE: {mae}\\n')\n",
        "\n",
        "calculate_loss(y_test, lstm_predictions)"
      ]
    },
    {
      "cell_type": "markdown",
      "metadata": {
        "id": "G3GZkfkkUa_4"
      },
      "source": [
        "### Plot Validation Loss (MSE)"
      ]
    },
    {
      "cell_type": "code",
      "execution_count": 22,
      "metadata": {
        "colab": {
          "base_uri": "https://localhost:8080/",
          "height": 487
        },
        "id": "zzgkx-iJ9sIG",
        "outputId": "c314fe0c-2a05-4a66-804f-aff98f1f1854"
      },
      "outputs": [
        {
          "output_type": "display_data",
          "data": {
            "text/plain": [
              "<Figure size 1000x500 with 1 Axes>"
            ],
            "image/png": "[encoded data removed]"
          },
          "metadata": {}
        }
      ],
      "source": [
        "def plot_training_history(history):\n",
        "\n",
        "  \"\"\"\n",
        "  Plots the training and validation loss for each epoch.\n",
        "\n",
        "  Parameters:\n",
        "  - history: fitted model\n",
        "  \"\"\"\n",
        "\n",
        "  plt.figure(figsize=(10,5))\n",
        "  plt.plot(history.history['loss'], label='loss')\n",
        "  plt.plot(history.history['val_loss'], label='val_loss')\n",
        "\n",
        "  plt.xlabel('Epoch')\n",
        "  plt.ylabel('Loss')\n",
        "  plt.title('Training vs Validation Loss')\n",
        "  plt.legend()\n",
        "  plt.show()\n",
        "\n",
        "plot_training_history(history)"
      ]
    },
    {
      "cell_type": "markdown",
      "metadata": {
        "id": "H9Yz0-WbDDt4"
      },
      "source": [
        "## **Evaluation**"
      ]
    },
    {
      "cell_type": "markdown",
      "metadata": {
        "id": "cv5gfJjAaHOn"
      },
      "source": [
        "### Feature Importance -- Permutation Method"
      ]
    },
    {
      "cell_type": "code",
      "execution_count": 23,
      "metadata": {
        "id": "IGvUN9p0aKTr",
        "colab": {
          "base_uri": "https://localhost:8080/"
        },
        "outputId": "e14d9cfe-3980-4a02-a293-814c814c90e6"
      },
      "outputs": [
        {
          "output_type": "stream",
          "name": "stdout",
          "text": [
            "           Feature  Importance\n",
            "15       WilliamsR    0.002078\n",
            "0            Close    0.000998\n",
            "12        BB_Lower    0.000394\n",
            "3            MA_10    0.000387\n",
            "14          ROC_20    0.000324\n",
            "4            MA_50    0.000174\n",
            "10       BB_Middle    0.000170\n",
            "2       SPGI_Close    0.000128\n",
            "11        BB_Upper    0.000092\n",
            "7             VWAP    0.000052\n",
            "17       Corr_SPGI    0.000037\n",
            "19      SPGI_MA_50    0.000024\n",
            "9   Rolling_std_20    0.000023\n",
            "5           MA_200    0.000020\n",
            "8   Rolling_std_10    0.000004\n",
            "13          ROC_10    0.000003\n",
            "18        NQ_MA_50   -0.000067\n",
            "1         NQ_Close   -0.000109\n",
            "6              OBV   -0.000126\n",
            "16         Corr_NQ   -0.000269\n"
          ]
        }
      ],
      "source": [
        "def permutation_feature_importance(model, X_test, y_test, features=FEATURES):\n",
        "\n",
        "  \"\"\"\n",
        "  Evaluates feature importance by measuring the increase in MSE after shuffling\n",
        "  each feature in X_test.\n",
        "\n",
        "  Parameters:\n",
        "  - model: Trained LSTM model\n",
        "  - X_test: Test set input features\n",
        "  - y_test: Test set actual values\n",
        "  - features: Global feature set\n",
        "\n",
        "  Returns:\n",
        "  df of features sorted by importance\n",
        "  \"\"\"\n",
        "\n",
        "  baseline_pred = model.predict(X_test, verbose=0)\n",
        "  baseline_mse = mean_squared_error(y_test, baseline_pred)\n",
        "\n",
        "  importances = {}\n",
        "\n",
        "  for i, feature in enumerate(features):\n",
        "    X_permuted = np.copy(X_test)\n",
        "\n",
        "    # shuffle values for this feature across all samples and timesteps\n",
        "    for t in range(X_permuted.shape[1]):\n",
        "      np.random.shuffle(X_permuted[:, t, i])\n",
        "\n",
        "    permuted_pred = model.predict(X_permuted, verbose=0)\n",
        "    permuted_mse = mean_squared_error(y_test, permuted_pred)\n",
        "\n",
        "    # importance is the increase in error caused by shuffling this feature\n",
        "    importances[feature] = permuted_mse - baseline_mse\n",
        "\n",
        "  # sort and display results\n",
        "  importance_df = pd.DataFrame(importances.items(), columns=['Feature', 'Importance']\n",
        "                               ).sort_values(by='Importance', ascending=False)\n",
        "\n",
        "  # print(\"\\nFeature Importance (Permutation Method):\")\n",
        "  # print(importance_df)\n",
        "\n",
        "  return importance_df\n",
        "\n",
        "importance_df = permutation_feature_importance(lstm_model, X_test, y_test, FEATURES)\n",
        "print(importance_df)"
      ]
    },
    {
      "cell_type": "markdown",
      "metadata": {
        "id": "r0qG_1u6oACV"
      },
      "source": [
        "### Plot Top Feature Importances"
      ]
    },
    {
      "cell_type": "code",
      "execution_count": 24,
      "metadata": {
        "colab": {
          "base_uri": "https://localhost:8080/",
          "height": 0
        },
        "id": "e_CY8LSooFXQ",
        "outputId": "a12c2fe8-541b-4ff1-c65b-d3939b3005f7"
      },
      "outputs": [
        {
          "output_type": "display_data",
          "data": {
            "text/plain": [
              "<Figure size 1000x600 with 1 Axes>"
            ],
            "image/png": "[encoded data removed]"
          },
          "metadata": {}
        }
      ],
      "source": [
        "def plot_feature_importance(importance_df, top_n=10):\n",
        "\n",
        "  plt.figure(figsize=(10,6))\n",
        "  sns.barplot(data=importance_df.head(top_n), x='Importance', y='Feature', hue='Feature',\n",
        "              palette='crest', legend=False)\n",
        "  plt.title('Top Feature Importances (Permutation Method)')\n",
        "  plt.xlabel('MSE Increase on Feature Shuffle')\n",
        "  plt.ylabel('Feature')\n",
        "  plt.grid(True, axis='x')\n",
        "  plt.tight_layout()\n",
        "  plt.show();\n",
        "\n",
        "plot_feature_importance(importance_df)"
      ]
    },
    {
      "cell_type": "markdown",
      "metadata": {
        "id": "o9eJo9gyVNCg"
      },
      "source": [
        "### Inverse Transform Predictions"
      ]
    },
    {
      "cell_type": "code",
      "execution_count": 25,
      "metadata": {
        "id": "ASGcmJ3rDt4Z"
      },
      "outputs": [],
      "source": [
        "def inverse_transform(y_test, predictions, scaler, features=FEATURES):\n",
        "\n",
        "  \"\"\"\n",
        "  Inverses the scaling of predictions back to original prices.\n",
        "\n",
        "  Parameters:\n",
        "  - y_test: Ground truth values (scaled)\n",
        "  - predictions: Predicted values from model (scaled)\n",
        "  - scaler: the fitted MinMaxScaler used on the feature set\n",
        "  - features: list of features used during scaling\n",
        "\n",
        "  Returns:\n",
        "  true_close, adj_close\n",
        "  \"\"\"\n",
        "\n",
        "  # modify scaler.inverse_transform() to include features\n",
        "  y_test_rescaled = np.zeros((y_test.shape[0], len(features)))\n",
        "  y_test_rescaled[:,0] = y_test\n",
        "\n",
        "  # modify scaler.inverse_transform() to include features\n",
        "  preds_rescaled = np.zeros((predictions.shape[0], len(features)))\n",
        "  preds_rescaled[:,0] = predictions[:,0]\n",
        "\n",
        "  # extract the first column (closing price)\n",
        "  adj_close = scaler.inverse_transform(preds_rescaled)[:,0]\n",
        "  true_close = scaler.inverse_transform(y_test_rescaled)[:,0]\n",
        "\n",
        "  return true_close, adj_close\n",
        "\n",
        "true_prices, predicted_prices = inverse_transform(y_test, lstm_predictions, scaler)"
      ]
    },
    {
      "cell_type": "markdown",
      "source": [
        "### Calculate Error"
      ],
      "metadata": {
        "id": "ESLy-q4Jy-fv"
      }
    },
    {
      "cell_type": "code",
      "source": [
        "def compute_error(true, adj):\n",
        "  pct_error = np.mean(np.abs(true-adj) / true) * 100\n",
        "  print(f'\\nAverage Percentage Error: {pct_error:.2f}%\\n')\n",
        "\n",
        "  return pct_error\n",
        "\n",
        "error = compute_error(true_prices, predicted_prices)"
      ],
      "metadata": {
        "colab": {
          "base_uri": "https://localhost:8080/"
        },
        "id": "1oFCoeQ-zQcM",
        "outputId": "08680bb4-0f76-4d45-80f5-dd4a3b66a652"
      },
      "execution_count": 26,
      "outputs": [
        {
          "output_type": "stream",
          "name": "stdout",
          "text": [
            "\n",
            "Average Percentage Error: 2.13%\n",
            "\n"
          ]
        }
      ]
    },
    {
      "cell_type": "markdown",
      "metadata": {
        "id": "1dwwZq-AVS5M"
      },
      "source": [
        "### Plot True vs Predicted Prices"
      ]
    },
    {
      "cell_type": "code",
      "execution_count": 27,
      "metadata": {
        "id": "02USEN9MJn0t",
        "colab": {
          "base_uri": "https://localhost:8080/",
          "height": 643
        },
        "outputId": "38e4b300-ce25-440d-8c4d-6292e760f197"
      },
      "outputs": [
        {
          "output_type": "display_data",
          "data": {
            "text/plain": [
              "<Figure size 1200x600 with 1 Axes>"
            ],
            "image/png": "[encoded data removed]"
          },
          "metadata": {}
        }
      ],
      "source": [
        "def plot_predictions_with_dates(df, true_prices, predicted_prices, lookback,\n",
        "                                                              split_ratio):\n",
        "\n",
        "  \"\"\"\n",
        "  Plots actual vs. predicted stock prices over time with proper date labels.\n",
        "\n",
        "  Parameters:\n",
        "  - df: Original DataFrame with full date index\n",
        "  - true_prices: Actual prices after inverse transform\n",
        "  - predicted_prices: Model predictions after inverse transform\n",
        "  - lookback: number of days in input window\n",
        "  - split_ratio: train/test split ratio\n",
        "  \"\"\"\n",
        "\n",
        "  # align with end of test set\n",
        "  total_samples = lookback + len(true_prices)\n",
        "  dates = df.index[-len(true_prices):]\n",
        "\n",
        "  plt.figure(figsize=(12,6))\n",
        "  plt.plot(dates, true_prices, label='True Prices')\n",
        "  plt.plot(dates, predicted_prices, label='Predicted Prices')\n",
        "  plt.xlabel('Date')\n",
        "  plt.ylabel('Price')\n",
        "  plt.title('LSTM Stock Price Predictions')\n",
        "  plt.legend()\n",
        "  plt.grid(True)\n",
        "  plt.tight_layout()\n",
        "  plt.xticks(rotation=45)\n",
        "  plt.show()\n",
        "\n",
        "plot_predictions_with_dates(df, true_prices, predicted_prices, lookback, split_ratio)"
      ]
    },
    {
      "cell_type": "markdown",
      "source": [
        "### DataFrame of Closing Prices"
      ],
      "metadata": {
        "id": "obubrWzNWKHG"
      }
    },
    {
      "cell_type": "code",
      "source": [
        "def compare_prices(df, y_test, true_prices, predicted_prices):\n",
        "\n",
        "  df_close = pd.DataFrame({\n",
        "      'Date': df.index[-len(y_test):],\n",
        "      'True Close': true_prices,\n",
        "      'Adjusted Close': predicted_prices,\n",
        "  })\n",
        "\n",
        "  print('\\nDataFrame of True vs Predicted Prices\\n')\n",
        "  print(df_close)\n",
        "\n",
        "compare_prices(df, y_test, true_prices, predicted_prices)"
      ],
      "metadata": {
        "colab": {
          "base_uri": "https://localhost:8080/"
        },
        "id": "85UzQwfGWPmZ",
        "outputId": "9f2981ef-fec9-46cd-e7fa-e0219bf1dfe2"
      },
      "execution_count": 28,
      "outputs": [
        {
          "output_type": "stream",
          "name": "stdout",
          "text": [
            "\n",
            "DataFrame of True vs Predicted Prices\n",
            "\n",
            "          Date  True Close  Adjusted Close\n",
            "0   2024-02-02   49.705959       49.331885\n",
            "1   2024-02-05   49.464043       49.200602\n",
            "2   2024-02-06   50.282856       48.989813\n",
            "3   2024-02-07   50.329384       48.996203\n",
            "4   2024-02-08   50.133980       49.101889\n",
            "..         ...         ...             ...\n",
            "225 2024-12-24   39.359764       41.384683\n",
            "226 2024-12-26   39.487396       41.376930\n",
            "227 2024-12-27   39.300854       41.397969\n",
            "228 2024-12-30   38.721600       41.387593\n",
            "229 2024-12-31   39.399036       41.297104\n",
            "\n",
            "[230 rows x 3 columns]\n"
          ]
        }
      ]
    },
    {
      "cell_type": "markdown",
      "metadata": {
        "id": "NsP49lP7lHcC"
      },
      "source": [
        "## **Pipeline Script**"
      ]
    },
    {
      "cell_type": "code",
      "source": [
        "def run_prediction_pipeline(ticker):\n",
        "    \"\"\"\n",
        "    Loads and preprocesses data, trains the model, and generates predictions.\n",
        "    Saves results to the global `state` dictionary and key variables to the global namespace.\n",
        "    Returns the full `state` for optional inspection.\n",
        "    \"\"\"\n",
        "\n",
        "    global df, history, X_test, y_test, true_prices, predicted_prices, model, error\n",
        "\n",
        "    print(f\"\\nRunning LSTM prediction for {ticker}...\\n\")\n",
        "\n",
        "    # Load and preprocess\n",
        "    df = prepare_data(ticker)\n",
        "    X_train, X_test, y_train, y_test, scaler, df = preprocess_data(df, lookback, split_ratio)\n",
        "\n",
        "    # Train model\n",
        "    model_config = get_model_config(ticker)\n",
        "    model, history = train_lstm(X_train, y_train, X_test, y_test, config=model_config)\n",
        "\n",
        "    # Predict\n",
        "    predictions = model.predict(X_test)\n",
        "\n",
        "    # Validate\n",
        "    loss = calculate_loss(y_test, predictions)\n",
        "\n",
        "    # Evaluate\n",
        "    true_prices, predicted_prices = inverse_transform(y_test, predictions, scaler)\n",
        "    error = compute_error(true_prices, predicted_prices)\n",
        "\n",
        "    return df, history, X_test, y_test, true_prices, predicted_prices, error"
      ],
      "metadata": {
        "id": "mdDzX5neKsyF"
      },
      "execution_count": 29,
      "outputs": []
    },
    {
      "cell_type": "markdown",
      "metadata": {
        "id": "Z719mlNB2bu8"
      },
      "source": [
        "## **User Interface**"
      ]
    },
    {
      "cell_type": "code",
      "source": [
        "state = {\n",
        "    'df': None,\n",
        "    'X_test': None,\n",
        "    'y_test': None,\n",
        "    'true_prices': None,\n",
        "    'predicted_prices': None,\n",
        "    'model': None,\n",
        "    'history': None,\n",
        "    'error': None,\n",
        "    'feature_list': None\n",
        "}\n",
        "\n",
        "import ipywidgets as widgets\n",
        "from IPython.display import display, clear_output\n",
        "from ipywidgets import VBox, HBox, Tab\n",
        "import io\n",
        "from contextlib import redirect_stdout\n",
        "\n",
        "# --- Global State ---\n",
        "pipeline_output = widgets.Output()\n",
        "viz_output = widgets.Output()\n",
        "# df = model = history = true_prices = predicted_prices = y_test = X_test = None\n",
        "\n",
        "# --- Widgets ---\n",
        "ticker_dropdown = widgets.Dropdown(\n",
        "    options=['AAPL', 'AXP', 'DOW', 'FOX', 'GOOGL', '^GSPC', '^IXIC', 'JPM', 'LMT', 'MA', 'MSFT',\n",
        "             'NFLX', '^RUT', 'SPOT'],\n",
        "    value='DOW',\n",
        "    description='Ticker:',\n",
        "    layout=widgets.Layout(width='200px')\n",
        ")\n",
        "\n",
        "run_button = widgets.Button(\n",
        "    description='Run Pipeline',\n",
        "    button_style='success',\n",
        "    layout=widgets.Layout(width='150px')\n",
        ")\n",
        "\n",
        "viz_dropdown = widgets.Dropdown(\n",
        "    options=[\n",
        "        'Feature Correlation Matrix',\n",
        "        'Model Summary',\n",
        "        'Training vs Validation Loss',\n",
        "        'Feature Importance',\n",
        "        'True vs Predicted Prices',\n",
        "        'Price Comparison Table'\n",
        "    ],\n",
        "    description='Visual:',\n",
        "    layout=widgets.Layout(width='350px')\n",
        ")\n",
        "\n",
        "show_button = widgets.Button(\n",
        "    description='Show',\n",
        "    button_style='info',\n",
        "    layout=widgets.Layout(width='100px')\n",
        ")\n",
        "\n",
        "reset_button = widgets.Button(\n",
        "    description='Reset All',\n",
        "    button_style='danger',\n",
        "    layout=widgets.Layout(width='120px')\n",
        ")\n",
        "\n",
        "# --- Utility: Get Model Summary as Text (avoid infinite loop) ---\n",
        "def get_model_summary_text(model):\n",
        "    buf = io.StringIO()\n",
        "    with redirect_stdout(buf):\n",
        "        model.summary()\n",
        "    return buf.getvalue()\n",
        "\n",
        "# --- Callbacks ---\n",
        "def on_run_click(b):\n",
        "    with pipeline_output:\n",
        "        clear_output(wait=True)\n",
        "        ticker = ticker_dropdown.value\n",
        "\n",
        "        df, history, X_test, y_test, true_prices, predicted_prices, error = run_prediction_pipeline(ticker)\n",
        "\n",
        "        state.update({\n",
        "            'df': df,\n",
        "            'history': history,\n",
        "            'y_test': y_test,\n",
        "            'true_prices': true_prices,\n",
        "            'predicted_prices': predicted_prices,\n",
        "            'error': error,\n",
        "            'model': model,\n",
        "            'X_test': X_test,\n",
        "            'feature_list': FEATURES\n",
        "        })\n",
        "\n",
        "        print(f\"Model trained for {ticker} with {len(df)} data points.\")\n",
        "\n",
        "\n",
        "def on_show_click(b):\n",
        "\n",
        "    with viz_output:\n",
        "        clear_output(wait=True)\n",
        "        if state['model'] is None:\n",
        "            print(\"⚠️ Please run the pipeline first.\")\n",
        "            return\n",
        "\n",
        "        choice = viz_dropdown.value\n",
        "        if choice == 'Model Summary':\n",
        "            print(get_model_summary_text(state['model']))\n",
        "        elif choice == 'True vs Predicted Prices':\n",
        "            plot_predictions_with_dates(state['df'], state['true_prices'], state['predicted_prices'], lookback, split_ratio)\n",
        "        elif choice == 'Feature Importance':\n",
        "            importance_df = permutation_feature_importance(state['model'], state['X_test'], state['y_test'], state['feature_list'])\n",
        "            plot_feature_importance(importance_df)\n",
        "        elif choice == 'Training vs Validation Loss':\n",
        "            plot_training_history(state['history'])\n",
        "        elif choice == 'Feature Correlation Matrix':\n",
        "            show_feature_correlation(state['df'])\n",
        "        elif choice == 'Price Comparison Table':\n",
        "            compare_prices(state['df'], state['y_test'], state['true_prices'], state['predicted_prices'])\n",
        "        else:\n",
        "            print(\"Select a visualization.\")\n",
        "\n",
        "\n",
        "def on_reset_click(b):\n",
        "    for key in state:\n",
        "        state[key] = None\n",
        "    with pipeline_output:\n",
        "        clear_output()\n",
        "        print(\"Pipeline output cleared.\")\n",
        "    with viz_output:\n",
        "        clear_output()\n",
        "        print(\"Visualization output cleared.\")\n",
        "\n",
        "# --- Connect Buttons ---\n",
        "run_button.on_click(on_run_click)\n",
        "show_button.on_click(on_show_click)\n",
        "reset_button.on_click(on_reset_click)\n",
        "\n",
        "# --- Layout ---\n",
        "pipeline_tab = VBox([\n",
        "    HBox([ticker_dropdown, run_button, reset_button]),\n",
        "    pipeline_output\n",
        "])\n",
        "\n",
        "visual_tab = VBox([\n",
        "    HBox([viz_dropdown, show_button]),\n",
        "    viz_output\n",
        "])\n",
        "\n",
        "tabs = Tab(children=[pipeline_tab, visual_tab])\n",
        "tabs.set_title(0, 'Pipeline')\n",
        "tabs.set_title(1, 'Visualization')\n",
        "\n",
        "# --- Display UI ---\n",
        "display(tabs)\n"
      ],
      "metadata": {
        "colab": {
          "base_uri": "https://localhost:8080/",
          "height": 1000,
          "referenced_widgets": [
            "781a9b9b13b143a9ad9334be9e943a9b",
            "d489ffb71435450487643cad63a00406",
            "f2bb37d95a1a40cead2551ef90463389",
            "b6e887d7a9ae4a839225030ec1ce259c",
            "c21a4bc2e6ca4665966dfce5803578d4",
            "de3b364b401142a9946a00f6a5f3a8ab",
            "d3b1310cd1314fd0bc5dec822ec84fc5",
            "60d85b7ac8444f6796b4026ea2c9164f",
            "6d34482351c84be4a89676da16522ac4",
            "f01356df8f3342d7895d6a66a9d2900f",
            "36062845788c49539cb4c5fb92ca0add",
            "7fb9cf191d1447a09c5111b15da966ae",
            "dd4ee3b1a4704cb299f2fe1c6e79d834",
            "ad6be3078cb642b09115ecfb0cd4966e",
            "feeaef59102a407d91ca575e67e2d1ef",
            "e6cfb392812949bbbaf45c12e3ff5c33",
            "7ebadc572bcd4e17bf5836404fba6b63",
            "5db5cb7e55e944fea69a497155ef215d",
            "f57654084c0b4d588d03c67ed1147e6f",
            "904de441005d44ff896c4e2c2c3c1111",
            "b69128cc7dea4504aad4bf278b2f0ed6",
            "eac6733321834f1cae4a563abcc2dc92",
            "d1d58eefc08c4eb4bdabed24927cb5f7",
            "1cc1a30dd41949d1a81709e74f3ba137",
            "b98c0fcd591644b39864945c66cc5aa5",
            "d0f341cec0b544c098feb55fb7e5c188",
            "10e1ef972aac471db507b5e64d3e33d3",
            "9fba1c4c6e9844c78de949ebc787d206",
            "616530ee676d472ab73ab0d2a298a18c"
          ]
        },
        "id": "uZ3Uhq71LNqC",
        "outputId": "aa36d1b5-f71b-4f9b-ff13-1dea6a7db4a9"
      },
      "execution_count": 38,
      "outputs": [
        {
          "output_type": "display_data",
          "data": {
            "text/plain": [
              "Tab(children=(VBox(children=(HBox(children=(Dropdown(description='Ticker:', index=2, layout=Layout(width='200p…"
            ],
            "application/vnd.jupyter.widget-view+json": {
              "version_major": 2,
              "version_minor": 0,
              "model_id": "781a9b9b13b143a9ad9334be9e943a9b"
            }
          },
          "metadata": {
            "application/vnd.jupyter.widget-view+json": {
              "colab": {
                "custom_widget_manager": {
                  "url": "https://ssl.gstatic.com/colaboratory-static/widgets/colab-cdn-widget-manager/2b70e893a8ba7c0f/manager.min.js"
                }
              }
            }
          }
        }
      ]
    }
  ],
  "metadata": {
    "accelerator": "GPU",
    "colab": {
      "collapsed_sections": [
        "Mdwih2aNY8Gy",
        "Z-fEwImFZnTG",
        "38hzuJVnUCHY",
        "tI5_EJgaaf-J",
        "1cH1VEmQbOnd",
        "KPPK_iglg1c7",
        "y07kEDxYiEqj",
        "iew5rXgKSWCE",
        "T8V9LJB9UmW9",
        "Lj4JSAgrYP_l",
        "f6Y57dgLCUdj",
        "G3GZkfkkUa_4",
        "H9Yz0-WbDDt4",
        "r0qG_1u6oACV",
        "o9eJo9gyVNCg",
        "ESLy-q4Jy-fv",
        "1dwwZq-AVS5M",
        "obubrWzNWKHG",
        "NsP49lP7lHcC"
      ],
      "gpuType": "T4",
      "provenance": [],
      "authorship_tag": "ABX9TyN8nub9lBfBj6B3/51S4maP",
      "include_colab_link": true
    },
    "kernelspec": {
      "display_name": "Python 3",
      "name": "python3"
    },
    "language_info": {
      "name": "python"
    },
    "widgets": {
      "application/vnd.jupyter.widget-state+json": {
        "781a9b9b13b143a9ad9334be9e943a9b": {
          "model_module": "@jupyter-widgets/controls",
          "model_name": "TabModel",
          "model_module_version": "2.0.0",
          "state": {
            "_dom_classes": [],
            "_model_module": "@jupyter-widgets/controls",
            "_model_module_version": "2.0.0",
            "_model_name": "TabModel",
            "_view_count": null,
            "_view_module": "@jupyter-widgets/controls",
            "_view_module_version": "2.0.0",
            "_view_name": "TabView",
            "box_style": "",
            "children": [
              "IPY_MODEL_d489ffb71435450487643cad63a00406",
              "IPY_MODEL_f2bb37d95a1a40cead2551ef90463389"
            ],
            "layout": "IPY_MODEL_b6e887d7a9ae4a839225030ec1ce259c",
            "selected_index": 0,
            "tabbable": null,
            "titles": [
              "Pipeline",
              "Visualization"
            ],
            "tooltip": null
          }
        },
        "d489ffb71435450487643cad63a00406": {
          "model_module": "@jupyter-widgets/controls",
          "model_name": "VBoxModel",
          "model_module_version": "2.0.0",
          "state": {
            "_dom_classes": [],
            "_model_module": "@jupyter-widgets/controls",
            "_model_module_version": "2.0.0",
            "_model_name": "VBoxModel",
            "_view_count": null,
            "_view_module": "@jupyter-widgets/controls",
            "_view_module_version": "2.0.0",
            "_view_name": "VBoxView",
            "box_style": "",
            "children": [
              "IPY_MODEL_c21a4bc2e6ca4665966dfce5803578d4",
              "IPY_MODEL_de3b364b401142a9946a00f6a5f3a8ab"
            ],
            "layout": "IPY_MODEL_d3b1310cd1314fd0bc5dec822ec84fc5",
            "tabbable": null,
            "tooltip": null
          }
        },
        "f2bb37d95a1a40cead2551ef90463389": {
          "model_module": "@jupyter-widgets/controls",
          "model_name": "VBoxModel",
          "model_module_version": "2.0.0",
          "state": {
            "_dom_classes": [],
            "_model_module": "@jupyter-widgets/controls",
            "_model_module_version": "2.0.0",
            "_model_name": "VBoxModel",
            "_view_count": null,
            "_view_module": "@jupyter-widgets/controls",
            "_view_module_version": "2.0.0",
            "_view_name": "VBoxView",
            "box_style": "",
            "children": [
              "IPY_MODEL_60d85b7ac8444f6796b4026ea2c9164f",
              "IPY_MODEL_6d34482351c84be4a89676da16522ac4"
            ],
            "layout": "IPY_MODEL_f01356df8f3342d7895d6a66a9d2900f",
            "tabbable": null,
            "tooltip": null
          }
        },
        "b6e887d7a9ae4a839225030ec1ce259c": {
          "model_module": "@jupyter-widgets/base",
          "model_name": "LayoutModel",
          "model_module_version": "2.0.0",
          "state": {
            "_model_module": "@jupyter-widgets/base",
            "_model_module_version": "2.0.0",
            "_model_name": "LayoutModel",
            "_view_count": null,
            "_view_module": "@jupyter-widgets/base",
            "_view_module_version": "2.0.0",
            "_view_name": "LayoutView",
            "align_content": null,
            "align_items": null,
            "align_self": null,
            "border_bottom": null,
            "border_left": null,
            "border_right": null,
            "border_top": null,
            "bottom": null,
            "display": null,
            "flex": null,
            "flex_flow": null,
            "grid_area": null,
            "grid_auto_columns": null,
            "grid_auto_flow": null,
            "grid_auto_rows": null,
            "grid_column": null,
            "grid_gap": null,
            "grid_row": null,
            "grid_template_areas": null,
            "grid_template_columns": null,
            "grid_template_rows": null,
            "height": null,
            "justify_content": null,
            "justify_items": null,
            "left": null,
            "margin": null,
            "max_height": null,
            "max_width": null,
            "min_height": null,
            "min_width": null,
            "object_fit": null,
            "object_position": null,
            "order": null,
            "overflow": null,
            "padding": null,
            "right": null,
            "top": null,
            "visibility": null,
            "width": null
          }
        },
        "c21a4bc2e6ca4665966dfce5803578d4": {
          "model_module": "@jupyter-widgets/controls",
          "model_name": "HBoxModel",
          "model_module_version": "2.0.0",
          "state": {
            "_dom_classes": [],
            "_model_module": "@jupyter-widgets/controls",
            "_model_module_version": "2.0.0",
            "_model_name": "HBoxModel",
            "_view_count": null,
            "_view_module": "@jupyter-widgets/controls",
            "_view_module_version": "2.0.0",
            "_view_name": "HBoxView",
            "box_style": "",
            "children": [
              "IPY_MODEL_36062845788c49539cb4c5fb92ca0add",
              "IPY_MODEL_7fb9cf191d1447a09c5111b15da966ae",
              "IPY_MODEL_dd4ee3b1a4704cb299f2fe1c6e79d834"
            ],
            "layout": "IPY_MODEL_ad6be3078cb642b09115ecfb0cd4966e",
            "tabbable": null,
            "tooltip": null
          }
        },
        "de3b364b401142a9946a00f6a5f3a8ab": {
          "model_module": "@jupyter-widgets/output",
          "model_name": "OutputModel",
          "model_module_version": "1.0.0",
          "state": {
            "_dom_classes": [],
            "_model_module": "@jupyter-widgets/output",
            "_model_module_version": "1.0.0",
            "_model_name": "OutputModel",
            "_view_count": null,
            "_view_module": "@jupyter-widgets/output",
            "_view_module_version": "1.0.0",
            "_view_name": "OutputView",
            "layout": "IPY_MODEL_feeaef59102a407d91ca575e67e2d1ef",
            "msg_id": "",
            "outputs": [
              {
                "output_type": "stream",
                "name": "stdout",
                "text": [
                  "\n",
                  "Running LSTM prediction for NFLX...\n",
                  "\n"
                ]
              },
              {
                "output_type": "stream",
                "name": "stdout",
                "text": [
                  "\n",
                  "Stock and market data downloaded, DataFrame created.\n",
                  "Individual stock features calculated.\n",
                  "Market index features calculated.\n",
                  "\n",
                  "DataFrame ready for preprocessing.\n",
                  "\n",
                  "DataFrame preprocessed and ready for modeling.\n",
                  "\n",
                  "\n",
                  "Training model for NFLX with configuration: {'dense_unit_1': 25, 'dropout_1': 0.2, 'dense_unit_2': 50, 'dropout_2': 0.3}\n",
                  "\n",
                  "\n",
                  "Epoch 1/75\n"
                ]
              },
              {
                "output_type": "stream",
                "name": "stdout",
                "text": [
                  "56/56 - 3s - 62ms/step - loss: 0.0112 - val_loss: 0.0103\n"
                ]
              },
              {
                "output_type": "stream",
                "name": "stdout",
                "text": [
                  "Epoch 2/75\n"
                ]
              },
              {
                "output_type": "stream",
                "name": "stdout",
                "text": [
                  "56/56 - 1s - 18ms/step - loss: 0.0043 - val_loss: 0.0050\n"
                ]
              },
              {
                "output_type": "stream",
                "name": "stdout",
                "text": [
                  "Epoch 3/75\n"
                ]
              },
              {
                "output_type": "stream",
                "name": "stdout",
                "text": [
                  "56/56 - 1s - 18ms/step - loss: 0.0032 - val_loss: 0.0042\n"
                ]
              },
              {
                "output_type": "stream",
                "name": "stdout",
                "text": [
                  "Epoch 4/75\n"
                ]
              },
              {
                "output_type": "stream",
                "name": "stdout",
                "text": [
                  "56/56 - 1s - 12ms/step - loss: 0.0030 - val_loss: 0.0021\n"
                ]
              },
              {
                "output_type": "stream",
                "name": "stdout",
                "text": [
                  "Epoch 5/75\n"
                ]
              },
              {
                "output_type": "stream",
                "name": "stdout",
                "text": [
                  "56/56 - 1s - 10ms/step - loss: 0.0029 - val_loss: 0.0025\n"
                ]
              },
              {
                "output_type": "stream",
                "name": "stdout",
                "text": [
                  "Epoch 6/75\n"
                ]
              },
              {
                "output_type": "stream",
                "name": "stdout",
                "text": [
                  "56/56 - 1s - 12ms/step - loss: 0.0027 - val_loss: 0.0030\n"
                ]
              },
              {
                "output_type": "stream",
                "name": "stdout",
                "text": [
                  "Epoch 7/75\n"
                ]
              },
              {
                "output_type": "stream",
                "name": "stdout",
                "text": [
                  "56/56 - 1s - 23ms/step - loss: 0.0025 - val_loss: 0.0019\n"
                ]
              },
              {
                "output_type": "stream",
                "name": "stdout",
                "text": [
                  "Epoch 8/75\n"
                ]
              },
              {
                "output_type": "stream",
                "name": "stdout",
                "text": [
                  "56/56 - 1s - 21ms/step - loss: 0.0026 - val_loss: 0.0028\n"
                ]
              },
              {
                "output_type": "stream",
                "name": "stdout",
                "text": [
                  "Epoch 9/75\n"
                ]
              },
              {
                "output_type": "stream",
                "name": "stdout",
                "text": [
                  "56/56 - 1s - 10ms/step - loss: 0.0022 - val_loss: 0.0020\n"
                ]
              },
              {
                "output_type": "stream",
                "name": "stdout",
                "text": [
                  "Epoch 10/75\n"
                ]
              },
              {
                "output_type": "stream",
                "name": "stdout",
                "text": [
                  "56/56 - 1s - 11ms/step - loss: 0.0023 - val_loss: 0.0032\n"
                ]
              },
              {
                "output_type": "stream",
                "name": "stdout",
                "text": [
                  "Epoch 11/75\n"
                ]
              },
              {
                "output_type": "stream",
                "name": "stdout",
                "text": [
                  "56/56 - 1s - 10ms/step - loss: 0.0021 - val_loss: 0.0017\n"
                ]
              },
              {
                "output_type": "stream",
                "name": "stdout",
                "text": [
                  "Epoch 12/75\n"
                ]
              },
              {
                "output_type": "stream",
                "name": "stdout",
                "text": [
                  "56/56 - 1s - 12ms/step - loss: 0.0018 - val_loss: 0.0029\n"
                ]
              },
              {
                "output_type": "stream",
                "name": "stdout",
                "text": [
                  "Epoch 13/75\n"
                ]
              },
              {
                "output_type": "stream",
                "name": "stdout",
                "text": [
                  "56/56 - 1s - 10ms/step - loss: 0.0020 - val_loss: 0.0036\n"
                ]
              },
              {
                "output_type": "stream",
                "name": "stdout",
                "text": [
                  "Epoch 14/75\n"
                ]
              },
              {
                "output_type": "stream",
                "name": "stdout",
                "text": [
                  "56/56 - 1s - 11ms/step - loss: 0.0020 - val_loss: 0.0021\n"
                ]
              },
              {
                "output_type": "stream",
                "name": "stdout",
                "text": [
                  "Epoch 15/75\n"
                ]
              },
              {
                "output_type": "stream",
                "name": "stdout",
                "text": [
                  "56/56 - 1s - 10ms/step - loss: 0.0018 - val_loss: 0.0019\n"
                ]
              },
              {
                "output_type": "stream",
                "name": "stdout",
                "text": [
                  "Epoch 16/75\n"
                ]
              },
              {
                "output_type": "stream",
                "name": "stdout",
                "text": [
                  "56/56 - 1s - 11ms/step - loss: 0.0017 - val_loss: 0.0019\n"
                ]
              },
              {
                "output_type": "stream",
                "name": "stdout",
                "text": [
                  "Epoch 17/75\n"
                ]
              },
              {
                "output_type": "stream",
                "name": "stdout",
                "text": [
                  "56/56 - 1s - 15ms/step - loss: 0.0019 - val_loss: 0.0033\n"
                ]
              },
              {
                "output_type": "stream",
                "name": "stdout",
                "text": [
                  "Epoch 18/75\n"
                ]
              },
              {
                "output_type": "stream",
                "name": "stdout",
                "text": [
                  "56/56 - 1s - 23ms/step - loss: 0.0018 - val_loss: 0.0017\n"
                ]
              },
              {
                "output_type": "stream",
                "name": "stdout",
                "text": [
                  "Epoch 19/75\n"
                ]
              },
              {
                "output_type": "stream",
                "name": "stdout",
                "text": [
                  "56/56 - 1s - 10ms/step - loss: 0.0017 - val_loss: 0.0027\n"
                ]
              },
              {
                "output_type": "stream",
                "name": "stdout",
                "text": [
                  "Epoch 20/75\n"
                ]
              },
              {
                "output_type": "stream",
                "name": "stdout",
                "text": [
                  "56/56 - 1s - 11ms/step - loss: 0.0017 - val_loss: 0.0016\n"
                ]
              },
              {
                "output_type": "stream",
                "name": "stdout",
                "text": [
                  "Epoch 21/75\n"
                ]
              },
              {
                "output_type": "stream",
                "name": "stdout",
                "text": [
                  "56/56 - 1s - 11ms/step - loss: 0.0017 - val_loss: 0.0018\n"
                ]
              },
              {
                "output_type": "stream",
                "name": "stdout",
                "text": [
                  "Epoch 22/75\n"
                ]
              },
              {
                "output_type": "stream",
                "name": "stdout",
                "text": [
                  "56/56 - 1s - 12ms/step - loss: 0.0016 - val_loss: 0.0016\n"
                ]
              },
              {
                "output_type": "stream",
                "name": "stdout",
                "text": [
                  "Epoch 23/75\n"
                ]
              },
              {
                "output_type": "stream",
                "name": "stdout",
                "text": [
                  "56/56 - 1s - 10ms/step - loss: 0.0017 - val_loss: 0.0013\n"
                ]
              },
              {
                "output_type": "stream",
                "name": "stdout",
                "text": [
                  "Epoch 24/75\n"
                ]
              },
              {
                "output_type": "stream",
                "name": "stdout",
                "text": [
                  "56/56 - 1s - 11ms/step - loss: 0.0018 - val_loss: 0.0034\n"
                ]
              },
              {
                "output_type": "stream",
                "name": "stdout",
                "text": [
                  "Epoch 25/75\n"
                ]
              },
              {
                "output_type": "stream",
                "name": "stdout",
                "text": [
                  "56/56 - 1s - 12ms/step - loss: 0.0018 - val_loss: 0.0011\n"
                ]
              },
              {
                "output_type": "stream",
                "name": "stdout",
                "text": [
                  "Epoch 26/75\n"
                ]
              },
              {
                "output_type": "stream",
                "name": "stdout",
                "text": [
                  "56/56 - 1s - 10ms/step - loss: 0.0015 - val_loss: 0.0017\n"
                ]
              },
              {
                "output_type": "stream",
                "name": "stdout",
                "text": [
                  "Epoch 27/75\n"
                ]
              },
              {
                "output_type": "stream",
                "name": "stdout",
                "text": [
                  "56/56 - 1s - 12ms/step - loss: 0.0014 - val_loss: 9.4842e-04\n"
                ]
              },
              {
                "output_type": "stream",
                "name": "stdout",
                "text": [
                  "Epoch 28/75\n"
                ]
              },
              {
                "output_type": "stream",
                "name": "stdout",
                "text": [
                  "56/56 - 1s - 22ms/step - loss: 0.0015 - val_loss: 6.2442e-04\n"
                ]
              },
              {
                "output_type": "stream",
                "name": "stdout",
                "text": [
                  "Epoch 29/75\n"
                ]
              },
              {
                "output_type": "stream",
                "name": "stdout",
                "text": [
                  "56/56 - 1s - 10ms/step - loss: 0.0015 - val_loss: 0.0012\n"
                ]
              },
              {
                "output_type": "stream",
                "name": "stdout",
                "text": [
                  "Epoch 30/75\n"
                ]
              },
              {
                "output_type": "stream",
                "name": "stdout",
                "text": [
                  "56/56 - 1s - 10ms/step - loss: 0.0015 - val_loss: 0.0017\n"
                ]
              },
              {
                "output_type": "stream",
                "name": "stdout",
                "text": [
                  "Epoch 31/75\n"
                ]
              },
              {
                "output_type": "stream",
                "name": "stdout",
                "text": [
                  "56/56 - 1s - 10ms/step - loss: 0.0015 - val_loss: 0.0013\n"
                ]
              },
              {
                "output_type": "stream",
                "name": "stdout",
                "text": [
                  "Epoch 32/75\n"
                ]
              },
              {
                "output_type": "stream",
                "name": "stdout",
                "text": [
                  "56/56 - 1s - 10ms/step - loss: 0.0015 - val_loss: 0.0018\n"
                ]
              },
              {
                "output_type": "stream",
                "name": "stdout",
                "text": [
                  "Epoch 33/75\n"
                ]
              },
              {
                "output_type": "stream",
                "name": "stdout",
                "text": [
                  "56/56 - 1s - 11ms/step - loss: 0.0015 - val_loss: 0.0025\n"
                ]
              },
              {
                "output_type": "stream",
                "name": "stdout",
                "text": [
                  "Epoch 34/75\n"
                ]
              },
              {
                "output_type": "stream",
                "name": "stdout",
                "text": [
                  "56/56 - 1s - 15ms/step - loss: 0.0014 - val_loss: 0.0019\n"
                ]
              },
              {
                "output_type": "stream",
                "name": "stdout",
                "text": [
                  "Epoch 35/75\n"
                ]
              },
              {
                "output_type": "stream",
                "name": "stdout",
                "text": [
                  "56/56 - 1s - 24ms/step - loss: 0.0015 - val_loss: 0.0023\n"
                ]
              },
              {
                "output_type": "stream",
                "name": "stdout",
                "text": [
                  "Epoch 36/75\n"
                ]
              },
              {
                "output_type": "stream",
                "name": "stdout",
                "text": [
                  "56/56 - 1s - 10ms/step - loss: 0.0016 - val_loss: 0.0012\n"
                ]
              },
              {
                "output_type": "stream",
                "name": "stdout",
                "text": [
                  "Epoch 37/75\n"
                ]
              },
              {
                "output_type": "stream",
                "name": "stdout",
                "text": [
                  "56/56 - 1s - 11ms/step - loss: 0.0014 - val_loss: 0.0016\n"
                ]
              },
              {
                "output_type": "stream",
                "name": "stdout",
                "text": [
                  "Epoch 38/75\n"
                ]
              },
              {
                "output_type": "stream",
                "name": "stdout",
                "text": [
                  "56/56 - 1s - 11ms/step - loss: 0.0013 - val_loss: 0.0012\n"
                ]
              },
              {
                "output_type": "stream",
                "name": "stdout",
                "text": [
                  "Epoch 39/75\n"
                ]
              },
              {
                "output_type": "stream",
                "name": "stdout",
                "text": [
                  "56/56 - 1s - 11ms/step - loss: 0.0014 - val_loss: 0.0021\n"
                ]
              },
              {
                "output_type": "stream",
                "name": "stdout",
                "text": [
                  "Epoch 40/75\n"
                ]
              },
              {
                "output_type": "stream",
                "name": "stdout",
                "text": [
                  "56/56 - 1s - 11ms/step - loss: 0.0013 - val_loss: 9.3500e-04\n"
                ]
              },
              {
                "output_type": "stream",
                "name": "stdout",
                "text": [
                  "Epoch 41/75\n"
                ]
              },
              {
                "output_type": "stream",
                "name": "stdout",
                "text": [
                  "56/56 - 1s - 11ms/step - loss: 0.0014 - val_loss: 0.0014\n"
                ]
              },
              {
                "output_type": "stream",
                "name": "stdout",
                "text": [
                  "Epoch 42/75\n"
                ]
              },
              {
                "output_type": "stream",
                "name": "stdout",
                "text": [
                  "56/56 - 1s - 11ms/step - loss: 0.0013 - val_loss: 0.0012\n"
                ]
              },
              {
                "output_type": "stream",
                "name": "stdout",
                "text": [
                  "Epoch 43/75\n"
                ]
              },
              {
                "output_type": "stream",
                "name": "stdout",
                "text": [
                  "56/56 - 1s - 11ms/step - loss: 0.0014 - val_loss: 0.0014\n"
                ]
              },
              {
                "output_type": "stream",
                "name": "stdout",
                "text": [
                  "Epoch 44/75\n"
                ]
              },
              {
                "output_type": "stream",
                "name": "stdout",
                "text": [
                  "56/56 - 1s - 11ms/step - loss: 0.0013 - val_loss: 8.6031e-04\n"
                ]
              },
              {
                "output_type": "stream",
                "name": "stdout",
                "text": [
                  "Epoch 45/75\n"
                ]
              },
              {
                "output_type": "stream",
                "name": "stdout",
                "text": [
                  "56/56 - 1s - 11ms/step - loss: 0.0013 - val_loss: 0.0018\n"
                ]
              },
              {
                "output_type": "stream",
                "name": "stdout",
                "text": [
                  "Epoch 46/75\n"
                ]
              },
              {
                "output_type": "stream",
                "name": "stdout",
                "text": [
                  "56/56 - 1s - 10ms/step - loss: 0.0013 - val_loss: 0.0018\n"
                ]
              },
              {
                "output_type": "stream",
                "name": "stdout",
                "text": [
                  "Epoch 47/75\n"
                ]
              },
              {
                "output_type": "stream",
                "name": "stdout",
                "text": [
                  "56/56 - 1s - 11ms/step - loss: 0.0012 - val_loss: 0.0011\n"
                ]
              },
              {
                "output_type": "stream",
                "name": "stdout",
                "text": [
                  "Epoch 48/75\n"
                ]
              },
              {
                "output_type": "stream",
                "name": "stdout",
                "text": [
                  "56/56 - 1s - 11ms/step - loss: 0.0014 - val_loss: 0.0010\n"
                ]
              },
              {
                "output_type": "stream",
                "name": "stdout",
                "text": [
                  "Epoch 49/75\n"
                ]
              },
              {
                "output_type": "stream",
                "name": "stdout",
                "text": [
                  "56/56 - 1s - 11ms/step - loss: 0.0013 - val_loss: 0.0010\n"
                ]
              },
              {
                "output_type": "stream",
                "name": "stdout",
                "text": [
                  "Epoch 50/75\n"
                ]
              },
              {
                "output_type": "stream",
                "name": "stdout",
                "text": [
                  "56/56 - 1s - 11ms/step - loss: 0.0013 - val_loss: 0.0017\n"
                ]
              },
              {
                "output_type": "stream",
                "name": "stdout",
                "text": [
                  "Epoch 51/75\n"
                ]
              },
              {
                "output_type": "stream",
                "name": "stdout",
                "text": [
                  "56/56 - 1s - 11ms/step - loss: 0.0012 - val_loss: 9.6837e-04\n"
                ]
              },
              {
                "output_type": "stream",
                "name": "stdout",
                "text": [
                  "Epoch 52/75\n"
                ]
              },
              {
                "output_type": "stream",
                "name": "stdout",
                "text": [
                  "56/56 - 1s - 16ms/step - loss: 0.0011 - val_loss: 9.7423e-04\n"
                ]
              },
              {
                "output_type": "stream",
                "name": "stdout",
                "text": [
                  "Epoch 53/75\n"
                ]
              },
              {
                "output_type": "stream",
                "name": "stdout",
                "text": [
                  "56/56 - 1s - 23ms/step - loss: 0.0011 - val_loss: 0.0017\n"
                ]
              },
              {
                "output_type": "stream",
                "name": "stdout",
                "text": [
                  "Epoch 54/75\n"
                ]
              },
              {
                "output_type": "stream",
                "name": "stdout",
                "text": [
                  "56/56 - 1s - 18ms/step - loss: 0.0012 - val_loss: 0.0015\n"
                ]
              },
              {
                "output_type": "stream",
                "name": "stdout",
                "text": [
                  "Epoch 55/75\n"
                ]
              },
              {
                "output_type": "stream",
                "name": "stdout",
                "text": [
                  "56/56 - 1s - 13ms/step - loss: 0.0012 - val_loss: 0.0012\n"
                ]
              },
              {
                "output_type": "stream",
                "name": "stdout",
                "text": [
                  "Epoch 56/75\n"
                ]
              },
              {
                "output_type": "stream",
                "name": "stdout",
                "text": [
                  "56/56 - 1s - 11ms/step - loss: 0.0010 - val_loss: 0.0011\n"
                ]
              },
              {
                "output_type": "stream",
                "name": "stdout",
                "text": [
                  "Epoch 57/75\n"
                ]
              },
              {
                "output_type": "stream",
                "name": "stdout",
                "text": [
                  "56/56 - 1s - 11ms/step - loss: 0.0013 - val_loss: 0.0010\n"
                ]
              },
              {
                "output_type": "stream",
                "name": "stdout",
                "text": [
                  "Epoch 58/75\n"
                ]
              },
              {
                "output_type": "stream",
                "name": "stdout",
                "text": [
                  "56/56 - 1s - 10ms/step - loss: 0.0012 - val_loss: 5.0531e-04\n"
                ]
              },
              {
                "output_type": "stream",
                "name": "stdout",
                "text": [
                  "Epoch 59/75\n"
                ]
              },
              {
                "output_type": "stream",
                "name": "stdout",
                "text": [
                  "56/56 - 1s - 11ms/step - loss: 0.0012 - val_loss: 0.0015\n"
                ]
              },
              {
                "output_type": "stream",
                "name": "stdout",
                "text": [
                  "Epoch 60/75\n"
                ]
              },
              {
                "output_type": "stream",
                "name": "stdout",
                "text": [
                  "56/56 - 1s - 13ms/step - loss: 0.0012 - val_loss: 9.5178e-04\n"
                ]
              },
              {
                "output_type": "stream",
                "name": "stdout",
                "text": [
                  "Epoch 61/75\n"
                ]
              },
              {
                "output_type": "stream",
                "name": "stdout",
                "text": [
                  "56/56 - 1s - 21ms/step - loss: 0.0012 - val_loss: 0.0019\n"
                ]
              },
              {
                "output_type": "stream",
                "name": "stdout",
                "text": [
                  "Epoch 62/75\n"
                ]
              },
              {
                "output_type": "stream",
                "name": "stdout",
                "text": [
                  "56/56 - 1s - 11ms/step - loss: 0.0011 - val_loss: 0.0018\n"
                ]
              },
              {
                "output_type": "stream",
                "name": "stdout",
                "text": [
                  "Epoch 63/75\n"
                ]
              },
              {
                "output_type": "stream",
                "name": "stdout",
                "text": [
                  "56/56 - 1s - 11ms/step - loss: 0.0010 - val_loss: 0.0012\n"
                ]
              },
              {
                "output_type": "stream",
                "name": "stdout",
                "text": [
                  "Epoch 64/75\n"
                ]
              },
              {
                "output_type": "stream",
                "name": "stdout",
                "text": [
                  "56/56 - 1s - 11ms/step - loss: 0.0012 - val_loss: 8.3216e-04\n"
                ]
              },
              {
                "output_type": "stream",
                "name": "stdout",
                "text": [
                  "Epoch 65/75\n"
                ]
              },
              {
                "output_type": "stream",
                "name": "stdout",
                "text": [
                  "56/56 - 1s - 10ms/step - loss: 0.0012 - val_loss: 0.0011\n"
                ]
              },
              {
                "output_type": "stream",
                "name": "stdout",
                "text": [
                  "Epoch 66/75\n"
                ]
              },
              {
                "output_type": "stream",
                "name": "stdout",
                "text": [
                  "56/56 - 1s - 11ms/step - loss: 0.0011 - val_loss: 0.0019\n"
                ]
              },
              {
                "output_type": "stream",
                "name": "stdout",
                "text": [
                  "Epoch 67/75\n"
                ]
              },
              {
                "output_type": "stream",
                "name": "stdout",
                "text": [
                  "56/56 - 1s - 11ms/step - loss: 0.0012 - val_loss: 0.0021\n"
                ]
              },
              {
                "output_type": "stream",
                "name": "stdout",
                "text": [
                  "Epoch 68/75\n"
                ]
              },
              {
                "output_type": "stream",
                "name": "stdout",
                "text": [
                  "56/56 - 1s - 14ms/step - loss: 0.0011 - val_loss: 8.5623e-04\n"
                ]
              },
              {
                "output_type": "stream",
                "name": "stdout",
                "text": [
                  "Epoch 69/75\n"
                ]
              },
              {
                "output_type": "stream",
                "name": "stdout",
                "text": [
                  "56/56 - 1s - 17ms/step - loss: 0.0011 - val_loss: 5.1497e-04\n"
                ]
              },
              {
                "output_type": "stream",
                "name": "stdout",
                "text": [
                  "Epoch 70/75\n"
                ]
              },
              {
                "output_type": "stream",
                "name": "stdout",
                "text": [
                  "56/56 - 1s - 18ms/step - loss: 0.0010 - val_loss: 0.0021\n"
                ]
              },
              {
                "output_type": "stream",
                "name": "stdout",
                "text": [
                  "Epoch 71/75\n"
                ]
              },
              {
                "output_type": "stream",
                "name": "stdout",
                "text": [
                  "56/56 - 1s - 21ms/step - loss: 0.0012 - val_loss: 0.0012\n"
                ]
              },
              {
                "output_type": "stream",
                "name": "stdout",
                "text": [
                  "Epoch 72/75\n"
                ]
              },
              {
                "output_type": "stream",
                "name": "stdout",
                "text": [
                  "56/56 - 1s - 11ms/step - loss: 0.0011 - val_loss: 9.7174e-04\n"
                ]
              },
              {
                "output_type": "stream",
                "name": "stdout",
                "text": [
                  "Epoch 73/75\n"
                ]
              },
              {
                "output_type": "stream",
                "name": "stdout",
                "text": [
                  "56/56 - 1s - 11ms/step - loss: 0.0010 - val_loss: 0.0014\n"
                ]
              },
              {
                "output_type": "stream",
                "name": "stdout",
                "text": [
                  "Epoch 74/75\n"
                ]
              },
              {
                "output_type": "stream",
                "name": "stdout",
                "text": [
                  "56/56 - 1s - 10ms/step - loss: 0.0011 - val_loss: 0.0012\n"
                ]
              },
              {
                "output_type": "stream",
                "name": "stdout",
                "text": [
                  "Epoch 75/75\n"
                ]
              },
              {
                "output_type": "stream",
                "name": "stdout",
                "text": [
                  "56/56 - 1s - 12ms/step - loss: 0.0011 - val_loss: 0.0010\n"
                ]
              },
              {
                "output_type": "stream",
                "name": "stdout",
                "text": [
                  "\r\u001b[1m 1/14\u001b[0m \u001b[32m━\u001b[0m\u001b[37m━━━━━━━━━━━━━━━━━━━\u001b[0m \u001b[1m2s\u001b[0m 175ms/step"
                ]
              },
              {
                "output_type": "stream",
                "name": "stdout",
                "text": [
                  "\b\b\b\b\b\b\b\b\b\b\b\b\b\b\b\b\b\b\b\b\b\b\b\b\b\b\b\b\b\b\b\b\b\b\b\b\b\b\b\b\r\u001b[1m14/14\u001b[0m \u001b[32m━━━━━━━━━━━━━━━━━━━━\u001b[0m\u001b[37m\u001b[0m \u001b[1m0s\u001b[0m 16ms/step "
                ]
              },
              {
                "output_type": "stream",
                "name": "stdout",
                "text": [
                  "\b\b\b\b\b\b\b\b\b\b\b\b\b\b\b\b\b\b\b\b\b\b\b\b\b\b\b\b\b\b\b\b\b\b\b\b\b\b\b\r\u001b[1m14/14\u001b[0m \u001b[32m━━━━━━━━━━━━━━━━━━━━\u001b[0m\u001b[37m\u001b[0m \u001b[1m0s\u001b[0m 17ms/step\n"
                ]
              },
              {
                "output_type": "stream",
                "name": "stdout",
                "text": [
                  "\n",
                  "MSE: 0.0010268571720903417\n",
                  "RMSE: 0.032044612216257845\n",
                  "MAE: 0.024974018804662008\n",
                  "\n",
                  "\n",
                  "Average Percentage Error: 3.73%\n",
                  "\n",
                  "Model trained for NFLX with 2266 data points.\n"
                ]
              }
            ],
            "tabbable": null,
            "tooltip": null
          }
        },
        "d3b1310cd1314fd0bc5dec822ec84fc5": {
          "model_module": "@jupyter-widgets/base",
          "model_name": "LayoutModel",
          "model_module_version": "2.0.0",
          "state": {
            "_model_module": "@jupyter-widgets/base",
            "_model_module_version": "2.0.0",
            "_model_name": "LayoutModel",
            "_view_count": null,
            "_view_module": "@jupyter-widgets/base",
            "_view_module_version": "2.0.0",
            "_view_name": "LayoutView",
            "align_content": null,
            "align_items": null,
            "align_self": null,
            "border_bottom": null,
            "border_left": null,
            "border_right": null,
            "border_top": null,
            "bottom": null,
            "display": null,
            "flex": null,
            "flex_flow": null,
            "grid_area": null,
            "grid_auto_columns": null,
            "grid_auto_flow": null,
            "grid_auto_rows": null,
            "grid_column": null,
            "grid_gap": null,
            "grid_row": null,
            "grid_template_areas": null,
            "grid_template_columns": null,
            "grid_template_rows": null,
            "height": null,
            "justify_content": null,
            "justify_items": null,
            "left": null,
            "margin": null,
            "max_height": null,
            "max_width": null,
            "min_height": null,
            "min_width": null,
            "object_fit": null,
            "object_position": null,
            "order": null,
            "overflow": null,
            "padding": null,
            "right": null,
            "top": null,
            "visibility": null,
            "width": null
          }
        },
        "60d85b7ac8444f6796b4026ea2c9164f": {
          "model_module": "@jupyter-widgets/controls",
          "model_name": "HBoxModel",
          "model_module_version": "2.0.0",
          "state": {
            "_dom_classes": [],
            "_model_module": "@jupyter-widgets/controls",
            "_model_module_version": "2.0.0",
            "_model_name": "HBoxModel",
            "_view_count": null,
            "_view_module": "@jupyter-widgets/controls",
            "_view_module_version": "2.0.0",
            "_view_name": "HBoxView",
            "box_style": "",
            "children": [
              "IPY_MODEL_e6cfb392812949bbbaf45c12e3ff5c33",
              "IPY_MODEL_7ebadc572bcd4e17bf5836404fba6b63"
            ],
            "layout": "IPY_MODEL_5db5cb7e55e944fea69a497155ef215d",
            "tabbable": null,
            "tooltip": null
          }
        },
        "6d34482351c84be4a89676da16522ac4": {
          "model_module": "@jupyter-widgets/output",
          "model_name": "OutputModel",
          "model_module_version": "1.0.0",
          "state": {
            "_dom_classes": [],
            "_model_module": "@jupyter-widgets/output",
            "_model_module_version": "1.0.0",
            "_model_name": "OutputModel",
            "_view_count": null,
            "_view_module": "@jupyter-widgets/output",
            "_view_module_version": "1.0.0",
            "_view_name": "OutputView",
            "layout": "IPY_MODEL_f57654084c0b4d588d03c67ed1147e6f",
            "msg_id": "",
            "outputs": [],
            "tabbable": null,
            "tooltip": null
          }
        },
        "f01356df8f3342d7895d6a66a9d2900f": {
          "model_module": "@jupyter-widgets/base",
          "model_name": "LayoutModel",
          "model_module_version": "2.0.0",
          "state": {
            "_model_module": "@jupyter-widgets/base",
            "_model_module_version": "2.0.0",
            "_model_name": "LayoutModel",
            "_view_count": null,
            "_view_module": "@jupyter-widgets/base",
            "_view_module_version": "2.0.0",
            "_view_name": "LayoutView",
            "align_content": null,
            "align_items": null,
            "align_self": null,
            "border_bottom": null,
            "border_left": null,
            "border_right": null,
            "border_top": null,
            "bottom": null,
            "display": null,
            "flex": null,
            "flex_flow": null,
            "grid_area": null,
            "grid_auto_columns": null,
            "grid_auto_flow": null,
            "grid_auto_rows": null,
            "grid_column": null,
            "grid_gap": null,
            "grid_row": null,
            "grid_template_areas": null,
            "grid_template_columns": null,
            "grid_template_rows": null,
            "height": null,
            "justify_content": null,
            "justify_items": null,
            "left": null,
            "margin": null,
            "max_height": null,
            "max_width": null,
            "min_height": null,
            "min_width": null,
            "object_fit": null,
            "object_position": null,
            "order": null,
            "overflow": null,
            "padding": null,
            "right": null,
            "top": null,
            "visibility": null,
            "width": null
          }
        },
        "36062845788c49539cb4c5fb92ca0add": {
          "model_module": "@jupyter-widgets/controls",
          "model_name": "DropdownModel",
          "model_module_version": "2.0.0",
          "state": {
            "_dom_classes": [],
            "_model_module": "@jupyter-widgets/controls",
            "_model_module_version": "2.0.0",
            "_model_name": "DropdownModel",
            "_options_labels": [
              "AAPL",
              "AXP",
              "DOW",
              "FOX",
              "GOOGL",
              "^GSPC",
              "^IXIC",
              "JPM",
              "LMT",
              "MA",
              "MSFT",
              "NFLX",
              "^RUT",
              "SPOT"
            ],
            "_view_count": null,
            "_view_module": "@jupyter-widgets/controls",
            "_view_module_version": "2.0.0",
            "_view_name": "DropdownView",
            "description": "Ticker:",
            "description_allow_html": false,
            "disabled": false,
            "index": 11,
            "layout": "IPY_MODEL_904de441005d44ff896c4e2c2c3c1111",
            "style": "IPY_MODEL_b69128cc7dea4504aad4bf278b2f0ed6",
            "tabbable": null,
            "tooltip": null
          }
        },
        "7fb9cf191d1447a09c5111b15da966ae": {
          "model_module": "@jupyter-widgets/controls",
          "model_name": "ButtonModel",
          "model_module_version": "2.0.0",
          "state": {
            "_dom_classes": [],
            "_model_module": "@jupyter-widgets/controls",
            "_model_module_version": "2.0.0",
            "_model_name": "ButtonModel",
            "_view_count": null,
            "_view_module": "@jupyter-widgets/controls",
            "_view_module_version": "2.0.0",
            "_view_name": "ButtonView",
            "button_style": "success",
            "description": "Run Pipeline",
            "disabled": false,
            "icon": "",
            "layout": "IPY_MODEL_eac6733321834f1cae4a563abcc2dc92",
            "style": "IPY_MODEL_d1d58eefc08c4eb4bdabed24927cb5f7",
            "tabbable": null,
            "tooltip": null
          }
        },
        "dd4ee3b1a4704cb299f2fe1c6e79d834": {
          "model_module": "@jupyter-widgets/controls",
          "model_name": "ButtonModel",
          "model_module_version": "2.0.0",
          "state": {
            "_dom_classes": [],
            "_model_module": "@jupyter-widgets/controls",
            "_model_module_version": "2.0.0",
            "_model_name": "ButtonModel",
            "_view_count": null,
            "_view_module": "@jupyter-widgets/controls",
            "_view_module_version": "2.0.0",
            "_view_name": "ButtonView",
            "button_style": "danger",
            "description": "Reset All",
            "disabled": false,
            "icon": "",
            "layout": "IPY_MODEL_1cc1a30dd41949d1a81709e74f3ba137",
            "style": "IPY_MODEL_b98c0fcd591644b39864945c66cc5aa5",
            "tabbable": null,
            "tooltip": null
          }
        },
        "ad6be3078cb642b09115ecfb0cd4966e": {
          "model_module": "@jupyter-widgets/base",
          "model_name": "LayoutModel",
          "model_module_version": "2.0.0",
          "state": {
            "_model_module": "@jupyter-widgets/base",
            "_model_module_version": "2.0.0",
            "_model_name": "LayoutModel",
            "_view_count": null,
            "_view_module": "@jupyter-widgets/base",
            "_view_module_version": "2.0.0",
            "_view_name": "LayoutView",
            "align_content": null,
            "align_items": null,
            "align_self": null,
            "border_bottom": null,
            "border_left": null,
            "border_right": null,
            "border_top": null,
            "bottom": null,
            "display": null,
            "flex": null,
            "flex_flow": null,
            "grid_area": null,
            "grid_auto_columns": null,
            "grid_auto_flow": null,
            "grid_auto_rows": null,
            "grid_column": null,
            "grid_gap": null,
            "grid_row": null,
            "grid_template_areas": null,
            "grid_template_columns": null,
            "grid_template_rows": null,
            "height": null,
            "justify_content": null,
            "justify_items": null,
            "left": null,
            "margin": null,
            "max_height": null,
            "max_width": null,
            "min_height": null,
            "min_width": null,
            "object_fit": null,
            "object_position": null,
            "order": null,
            "overflow": null,
            "padding": null,
            "right": null,
            "top": null,
            "visibility": null,
            "width": null
          }
        },
        "feeaef59102a407d91ca575e67e2d1ef": {
          "model_module": "@jupyter-widgets/base",
          "model_name": "LayoutModel",
          "model_module_version": "2.0.0",
          "state": {
            "_model_module": "@jupyter-widgets/base",
            "_model_module_version": "2.0.0",
            "_model_name": "LayoutModel",
            "_view_count": null,
            "_view_module": "@jupyter-widgets/base",
            "_view_module_version": "2.0.0",
            "_view_name": "LayoutView",
            "align_content": null,
            "align_items": null,
            "align_self": null,
            "border_bottom": null,
            "border_left": null,
            "border_right": null,
            "border_top": null,
            "bottom": null,
            "display": null,
            "flex": null,
            "flex_flow": null,
            "grid_area": null,
            "grid_auto_columns": null,
            "grid_auto_flow": null,
            "grid_auto_rows": null,
            "grid_column": null,
            "grid_gap": null,
            "grid_row": null,
            "grid_template_areas": null,
            "grid_template_columns": null,
            "grid_template_rows": null,
            "height": null,
            "justify_content": null,
            "justify_items": null,
            "left": null,
            "margin": null,
            "max_height": null,
            "max_width": null,
            "min_height": null,
            "min_width": null,
            "object_fit": null,
            "object_position": null,
            "order": null,
            "overflow": null,
            "padding": null,
            "right": null,
            "top": null,
            "visibility": null,
            "width": null
          }
        },
        "e6cfb392812949bbbaf45c12e3ff5c33": {
          "model_module": "@jupyter-widgets/controls",
          "model_name": "DropdownModel",
          "model_module_version": "2.0.0",
          "state": {
            "_dom_classes": [],
            "_model_module": "@jupyter-widgets/controls",
            "_model_module_version": "2.0.0",
            "_model_name": "DropdownModel",
            "_options_labels": [
              "Feature Correlation Matrix",
              "Model Summary",
              "Training vs Validation Loss",
              "Feature Importance",
              "True vs Predicted Prices",
              "Price Comparison Table"
            ],
            "_view_count": null,
            "_view_module": "@jupyter-widgets/controls",
            "_view_module_version": "2.0.0",
            "_view_name": "DropdownView",
            "description": "Visual:",
            "description_allow_html": false,
            "disabled": false,
            "index": 0,
            "layout": "IPY_MODEL_d0f341cec0b544c098feb55fb7e5c188",
            "style": "IPY_MODEL_10e1ef972aac471db507b5e64d3e33d3",
            "tabbable": null,
            "tooltip": null
          }
        },
        "7ebadc572bcd4e17bf5836404fba6b63": {
          "model_module": "@jupyter-widgets/controls",
          "model_name": "ButtonModel",
          "model_module_version": "2.0.0",
          "state": {
            "_dom_classes": [],
            "_model_module": "@jupyter-widgets/controls",
            "_model_module_version": "2.0.0",
            "_model_name": "ButtonModel",
            "_view_count": null,
            "_view_module": "@jupyter-widgets/controls",
            "_view_module_version": "2.0.0",
            "_view_name": "ButtonView",
            "button_style": "info",
            "description": "Show",
            "disabled": false,
            "icon": "",
            "layout": "IPY_MODEL_9fba1c4c6e9844c78de949ebc787d206",
            "style": "IPY_MODEL_616530ee676d472ab73ab0d2a298a18c",
            "tabbable": null,
            "tooltip": null
          }
        },
        "5db5cb7e55e944fea69a497155ef215d": {
          "model_module": "@jupyter-widgets/base",
          "model_name": "LayoutModel",
          "model_module_version": "2.0.0",
          "state": {
            "_model_module": "@jupyter-widgets/base",
            "_model_module_version": "2.0.0",
            "_model_name": "LayoutModel",
            "_view_count": null,
            "_view_module": "@jupyter-widgets/base",
            "_view_module_version": "2.0.0",
            "_view_name": "LayoutView",
            "align_content": null,
            "align_items": null,
            "align_self": null,
            "border_bottom": null,
            "border_left": null,
            "border_right": null,
            "border_top": null,
            "bottom": null,
            "display": null,
            "flex": null,
            "flex_flow": null,
            "grid_area": null,
            "grid_auto_columns": null,
            "grid_auto_flow": null,
            "grid_auto_rows": null,
            "grid_column": null,
            "grid_gap": null,
            "grid_row": null,
            "grid_template_areas": null,
            "grid_template_columns": null,
            "grid_template_rows": null,
            "height": null,
            "justify_content": null,
            "justify_items": null,
            "left": null,
            "margin": null,
            "max_height": null,
            "max_width": null,
            "min_height": null,
            "min_width": null,
            "object_fit": null,
            "object_position": null,
            "order": null,
            "overflow": null,
            "padding": null,
            "right": null,
            "top": null,
            "visibility": null,
            "width": null
          }
        },
        "f57654084c0b4d588d03c67ed1147e6f": {
          "model_module": "@jupyter-widgets/base",
          "model_name": "LayoutModel",
          "model_module_version": "2.0.0",
          "state": {
            "_model_module": "@jupyter-widgets/base",
            "_model_module_version": "2.0.0",
            "_model_name": "LayoutModel",
            "_view_count": null,
            "_view_module": "@jupyter-widgets/base",
            "_view_module_version": "2.0.0",
            "_view_name": "LayoutView",
            "align_content": null,
            "align_items": null,
            "align_self": null,
            "border_bottom": null,
            "border_left": null,
            "border_right": null,
            "border_top": null,
            "bottom": null,
            "display": null,
            "flex": null,
            "flex_flow": null,
            "grid_area": null,
            "grid_auto_columns": null,
            "grid_auto_flow": null,
            "grid_auto_rows": null,
            "grid_column": null,
            "grid_gap": null,
            "grid_row": null,
            "grid_template_areas": null,
            "grid_template_columns": null,
            "grid_template_rows": null,
            "height": null,
            "justify_content": null,
            "justify_items": null,
            "left": null,
            "margin": null,
            "max_height": null,
            "max_width": null,
            "min_height": null,
            "min_width": null,
            "object_fit": null,
            "object_position": null,
            "order": null,
            "overflow": null,
            "padding": null,
            "right": null,
            "top": null,
            "visibility": null,
            "width": null
          }
        },
        "904de441005d44ff896c4e2c2c3c1111": {
          "model_module": "@jupyter-widgets/base",
          "model_name": "LayoutModel",
          "model_module_version": "2.0.0",
          "state": {
            "_model_module": "@jupyter-widgets/base",
            "_model_module_version": "2.0.0",
            "_model_name": "LayoutModel",
            "_view_count": null,
            "_view_module": "@jupyter-widgets/base",
            "_view_module_version": "2.0.0",
            "_view_name": "LayoutView",
            "align_content": null,
            "align_items": null,
            "align_self": null,
            "border_bottom": null,
            "border_left": null,
            "border_right": null,
            "border_top": null,
            "bottom": null,
            "display": null,
            "flex": null,
            "flex_flow": null,
            "grid_area": null,
            "grid_auto_columns": null,
            "grid_auto_flow": null,
            "grid_auto_rows": null,
            "grid_column": null,
            "grid_gap": null,
            "grid_row": null,
            "grid_template_areas": null,
            "grid_template_columns": null,
            "grid_template_rows": null,
            "height": null,
            "justify_content": null,
            "justify_items": null,
            "left": null,
            "margin": null,
            "max_height": null,
            "max_width": null,
            "min_height": null,
            "min_width": null,
            "object_fit": null,
            "object_position": null,
            "order": null,
            "overflow": null,
            "padding": null,
            "right": null,
            "top": null,
            "visibility": null,
            "width": "200px"
          }
        },
        "b69128cc7dea4504aad4bf278b2f0ed6": {
          "model_module": "@jupyter-widgets/controls",
          "model_name": "DescriptionStyleModel",
          "model_module_version": "2.0.0",
          "state": {
            "_model_module": "@jupyter-widgets/controls",
            "_model_module_version": "2.0.0",
            "_model_name": "DescriptionStyleModel",
            "_view_count": null,
            "_view_module": "@jupyter-widgets/base",
            "_view_module_version": "2.0.0",
            "_view_name": "StyleView",
            "description_width": ""
          }
        },
        "eac6733321834f1cae4a563abcc2dc92": {
          "model_module": "@jupyter-widgets/base",
          "model_name": "LayoutModel",
          "model_module_version": "2.0.0",
          "state": {
            "_model_module": "@jupyter-widgets/base",
            "_model_module_version": "2.0.0",
            "_model_name": "LayoutModel",
            "_view_count": null,
            "_view_module": "@jupyter-widgets/base",
            "_view_module_version": "2.0.0",
            "_view_name": "LayoutView",
            "align_content": null,
            "align_items": null,
            "align_self": null,
            "border_bottom": null,
            "border_left": null,
            "border_right": null,
            "border_top": null,
            "bottom": null,
            "display": null,
            "flex": null,
            "flex_flow": null,
            "grid_area": null,
            "grid_auto_columns": null,
            "grid_auto_flow": null,
            "grid_auto_rows": null,
            "grid_column": null,
            "grid_gap": null,
            "grid_row": null,
            "grid_template_areas": null,
            "grid_template_columns": null,
            "grid_template_rows": null,
            "height": null,
            "justify_content": null,
            "justify_items": null,
            "left": null,
            "margin": null,
            "max_height": null,
            "max_width": null,
            "min_height": null,
            "min_width": null,
            "object_fit": null,
            "object_position": null,
            "order": null,
            "overflow": null,
            "padding": null,
            "right": null,
            "top": null,
            "visibility": null,
            "width": "150px"
          }
        },
        "d1d58eefc08c4eb4bdabed24927cb5f7": {
          "model_module": "@jupyter-widgets/controls",
          "model_name": "ButtonStyleModel",
          "model_module_version": "2.0.0",
          "state": {
            "_model_module": "@jupyter-widgets/controls",
            "_model_module_version": "2.0.0",
            "_model_name": "ButtonStyleModel",
            "_view_count": null,
            "_view_module": "@jupyter-widgets/base",
            "_view_module_version": "2.0.0",
            "_view_name": "StyleView",
            "button_color": null,
            "font_family": null,
            "font_size": null,
            "font_style": null,
            "font_variant": null,
            "font_weight": null,
            "text_color": null,
            "text_decoration": null
          }
        },
        "1cc1a30dd41949d1a81709e74f3ba137": {
          "model_module": "@jupyter-widgets/base",
          "model_name": "LayoutModel",
          "model_module_version": "2.0.0",
          "state": {
            "_model_module": "@jupyter-widgets/base",
            "_model_module_version": "2.0.0",
            "_model_name": "LayoutModel",
            "_view_count": null,
            "_view_module": "@jupyter-widgets/base",
            "_view_module_version": "2.0.0",
            "_view_name": "LayoutView",
            "align_content": null,
            "align_items": null,
            "align_self": null,
            "border_bottom": null,
            "border_left": null,
            "border_right": null,
            "border_top": null,
            "bottom": null,
            "display": null,
            "flex": null,
            "flex_flow": null,
            "grid_area": null,
            "grid_auto_columns": null,
            "grid_auto_flow": null,
            "grid_auto_rows": null,
            "grid_column": null,
            "grid_gap": null,
            "grid_row": null,
            "grid_template_areas": null,
            "grid_template_columns": null,
            "grid_template_rows": null,
            "height": null,
            "justify_content": null,
            "justify_items": null,
            "left": null,
            "margin": null,
            "max_height": null,
            "max_width": null,
            "min_height": null,
            "min_width": null,
            "object_fit": null,
            "object_position": null,
            "order": null,
            "overflow": null,
            "padding": null,
            "right": null,
            "top": null,
            "visibility": null,
            "width": "120px"
          }
        },
        "b98c0fcd591644b39864945c66cc5aa5": {
          "model_module": "@jupyter-widgets/controls",
          "model_name": "ButtonStyleModel",
          "model_module_version": "2.0.0",
          "state": {
            "_model_module": "@jupyter-widgets/controls",
            "_model_module_version": "2.0.0",
            "_model_name": "ButtonStyleModel",
            "_view_count": null,
            "_view_module": "@jupyter-widgets/base",
            "_view_module_version": "2.0.0",
            "_view_name": "StyleView",
            "button_color": null,
            "font_family": null,
            "font_size": null,
            "font_style": null,
            "font_variant": null,
            "font_weight": null,
            "text_color": null,
            "text_decoration": null
          }
        },
        "d0f341cec0b544c098feb55fb7e5c188": {
          "model_module": "@jupyter-widgets/base",
          "model_name": "LayoutModel",
          "model_module_version": "2.0.0",
          "state": {
            "_model_module": "@jupyter-widgets/base",
            "_model_module_version": "2.0.0",
            "_model_name": "LayoutModel",
            "_view_count": null,
            "_view_module": "@jupyter-widgets/base",
            "_view_module_version": "2.0.0",
            "_view_name": "LayoutView",
            "align_content": null,
            "align_items": null,
            "align_self": null,
            "border_bottom": null,
            "border_left": null,
            "border_right": null,
            "border_top": null,
            "bottom": null,
            "display": null,
            "flex": null,
            "flex_flow": null,
            "grid_area": null,
            "grid_auto_columns": null,
            "grid_auto_flow": null,
            "grid_auto_rows": null,
            "grid_column": null,
            "grid_gap": null,
            "grid_row": null,
            "grid_template_areas": null,
            "grid_template_columns": null,
            "grid_template_rows": null,
            "height": null,
            "justify_content": null,
            "justify_items": null,
            "left": null,
            "margin": null,
            "max_height": null,
            "max_width": null,
            "min_height": null,
            "min_width": null,
            "object_fit": null,
            "object_position": null,
            "order": null,
            "overflow": null,
            "padding": null,
            "right": null,
            "top": null,
            "visibility": null,
            "width": "350px"
          }
        },
        "10e1ef972aac471db507b5e64d3e33d3": {
          "model_module": "@jupyter-widgets/controls",
          "model_name": "DescriptionStyleModel",
          "model_module_version": "2.0.0",
          "state": {
            "_model_module": "@jupyter-widgets/controls",
            "_model_module_version": "2.0.0",
            "_model_name": "DescriptionStyleModel",
            "_view_count": null,
            "_view_module": "@jupyter-widgets/base",
            "_view_module_version": "2.0.0",
            "_view_name": "StyleView",
            "description_width": ""
          }
        },
        "9fba1c4c6e9844c78de949ebc787d206": {
          "model_module": "@jupyter-widgets/base",
          "model_name": "LayoutModel",
          "model_module_version": "2.0.0",
          "state": {
            "_model_module": "@jupyter-widgets/base",
            "_model_module_version": "2.0.0",
            "_model_name": "LayoutModel",
            "_view_count": null,
            "_view_module": "@jupyter-widgets/base",
            "_view_module_version": "2.0.0",
            "_view_name": "LayoutView",
            "align_content": null,
            "align_items": null,
            "align_self": null,
            "border_bottom": null,
            "border_left": null,
            "border_right": null,
            "border_top": null,
            "bottom": null,
            "display": null,
            "flex": null,
            "flex_flow": null,
            "grid_area": null,
            "grid_auto_columns": null,
            "grid_auto_flow": null,
            "grid_auto_rows": null,
            "grid_column": null,
            "grid_gap": null,
            "grid_row": null,
            "grid_template_areas": null,
            "grid_template_columns": null,
            "grid_template_rows": null,
            "height": null,
            "justify_content": null,
            "justify_items": null,
            "left": null,
            "margin": null,
            "max_height": null,
            "max_width": null,
            "min_height": null,
            "min_width": null,
            "object_fit": null,
            "object_position": null,
            "order": null,
            "overflow": null,
            "padding": null,
            "right": null,
            "top": null,
            "visibility": null,
            "width": "100px"
          }
        },
        "616530ee676d472ab73ab0d2a298a18c": {
          "model_module": "@jupyter-widgets/controls",
          "model_name": "ButtonStyleModel",
          "model_module_version": "2.0.0",
          "state": {
            "_model_module": "@jupyter-widgets/controls",
            "_model_module_version": "2.0.0",
            "_model_name": "ButtonStyleModel",
            "_view_count": null,
            "_view_module": "@jupyter-widgets/base",
            "_view_module_version": "2.0.0",
            "_view_name": "StyleView",
            "button_color": null,
            "font_family": null,
            "font_size": null,
            "font_style": null,
            "font_variant": null,
            "font_weight": null,
            "text_color": null,
            "text_decoration": null
          }
        }
      }
    }
  },
  "nbformat": 4,
  "nbformat_minor": 0
}